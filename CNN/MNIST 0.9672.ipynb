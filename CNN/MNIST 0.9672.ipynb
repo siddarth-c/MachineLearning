{
 "cells": [
  {
   "cell_type": "markdown",
   "metadata": {},
   "source": [
    "# 0 - 9 classifier"
   ]
  },
  {
   "cell_type": "markdown",
   "metadata": {},
   "source": [
    "#### Import required libraries"
   ]
  },
  {
   "cell_type": "code",
   "execution_count": 2,
   "metadata": {},
   "outputs": [],
   "source": [
    "import cv2\n",
    "from matplotlib import pyplot as plt\n",
    "\n",
    "import tensorflow as tf\n",
    "from tensorflow.keras.models import Sequential \n",
    "from tensorflow.keras import layers\n",
    "from tensorflow.keras.preprocessing.image import ImageDataGenerator\n",
    "from tensorflow.keras.utils import to_categorical\n",
    "\n",
    "import idx2numpy\n",
    "import numpy as np"
   ]
  },
  {
   "cell_type": "markdown",
   "metadata": {},
   "source": [
    "#### Input the training data"
   ]
  },
  {
   "cell_type": "code",
   "execution_count": 3,
   "metadata": {},
   "outputs": [
    {
     "name": "stdout",
     "output_type": "stream",
     "text": [
      "9\n"
     ]
    },
    {
     "data": {
      "image/png": "[encoded data removed]",
      "text/plain": [
       "<Figure size 432x288 with 1 Axes>"
      ]
     },
     "metadata": {
      "needs_background": "light"
     },
     "output_type": "display_data"
    }
   ],
   "source": [
    "file1 = 'train-images.idx3-ubyte'\n",
    "img_arr = idx2numpy.convert_from_file(file1)\n",
    "\n",
    "file2 = 'train-labels.idx1-ubyte'\n",
    "label = idx2numpy.convert_from_file(file2)\n",
    "\n",
    "plt.imshow(img_arr[4],cmap='gray')\n",
    "print(label[4])"
   ]
  },
  {
   "cell_type": "markdown",
   "metadata": {},
   "source": [
    "#### Convert img (unit8) to array (int)"
   ]
  },
  {
   "cell_type": "code",
   "execution_count": 4,
   "metadata": {},
   "outputs": [],
   "source": [
    "trainx = tf.keras.preprocessing.image.img_to_array(img_arr)"
   ]
  },
  {
   "cell_type": "markdown",
   "metadata": {},
   "source": [
    "#### Resize 28 X 28 image into 50 X 50"
   ]
  },
  {
   "cell_type": "code",
   "execution_count": 5,
   "metadata": {},
   "outputs": [],
   "source": [
    "x_train = []\n",
    "for im in trainx:\n",
    "    x_train.append(cv2.resize(im,(50,50)))\n",
    "    \n",
    "x_train = np.stack(x_train)"
   ]
  },
  {
   "cell_type": "code",
   "execution_count": 6,
   "metadata": {},
   "outputs": [
    {
     "data": {
      "text/plain": [
       "<matplotlib.image.AxesImage at 0x20ceeb70f08>"
      ]
     },
     "execution_count": 6,
     "metadata": {},
     "output_type": "execute_result"
    },
    {
     "data": {
      "image/png": "[encoded data removed]",
      "text/plain": [
       "<Figure size 432x288 with 1 Axes>"
      ]
     },
     "metadata": {
      "needs_background": "light"
     },
     "output_type": "display_data"
    }
   ],
   "source": [
    "plt.imshow(x_train[0],cmap = 'gray')"
   ]
  },
  {
   "cell_type": "code",
   "execution_count": 14,
   "metadata": {},
   "outputs": [],
   "source": [
    "y_train = to_categorical(label, 10)\n",
    "train_x = x_train.reshape((60000,50,50,1))\n",
    "train_y = y_train.reshape((60000,10))"
   ]
  },
  {
   "cell_type": "markdown",
   "metadata": {},
   "source": [
    "#### Data Augumentation"
   ]
  },
  {
   "cell_type": "code",
   "execution_count": 12,
   "metadata": {},
   "outputs": [],
   "source": [
    "datagen = ImageDataGenerator( \n",
    "        rotation_range = 10, \n",
    "        zoom_range = 0.1, \n",
    "        brightness_range = (0.5, 1.5)) "
   ]
  },
  {
   "cell_type": "markdown",
   "metadata": {},
   "source": [
    "#### How is data distributed?"
   ]
  },
  {
   "cell_type": "code",
   "execution_count": 28,
   "metadata": {},
   "outputs": [
    {
     "name": "stdout",
     "output_type": "stream",
     "text": [
      "[[   0 5923]\n",
      " [   1 6742]\n",
      " [   2 5958]\n",
      " [   3 6131]\n",
      " [   4 5842]\n",
      " [   5 5421]\n",
      " [   6 5918]\n",
      " [   7 6265]\n",
      " [   8 5851]\n",
      " [   9 5949]]\n",
      "6000.0\n"
     ]
    }
   ],
   "source": [
    "unique, counts = np.unique(label, return_counts=True)\n",
    "\n",
    "print (np.asarray((unique, counts)).T)\n",
    "print(np.mean(counts))"
   ]
  },
  {
   "cell_type": "markdown",
   "metadata": {},
   "source": [
    "As all of the classes have almost equal training examples, accuracy will be a good metric to evaluate our model"
   ]
  },
  {
   "cell_type": "markdown",
   "metadata": {},
   "source": [
    "#### Build the model"
   ]
  },
  {
   "cell_type": "code",
   "execution_count": 32,
   "metadata": {},
   "outputs": [
    {
     "name": "stdout",
     "output_type": "stream",
     "text": [
      "Epoch 1/40\n",
      "1875/1875 [==============================] - 64s 34ms/step - loss: 1.5431 - accuracy: 0.6093\n",
      "Epoch 2/40\n",
      "1875/1875 [==============================] - 67s 36ms/step - loss: 0.3319 - accuracy: 0.90220s - loss: 0.3\n",
      "Epoch 3/40\n",
      "1875/1875 [==============================] - 77s 41ms/step - loss: 0.2271 - accuracy: 0.9326\n",
      "Epoch 4/40\n",
      "1875/1875 [==============================] - 65s 35ms/step - loss: 0.1924 - accuracy: 0.9435\n",
      "Epoch 5/40\n",
      "1875/1875 [==============================] - 62s 33ms/step - loss: 0.1702 - accuracy: 0.9493\n",
      "Epoch 6/40\n",
      "1875/1875 [==============================] - 61s 32ms/step - loss: 0.1622 - accuracy: 0.9532\n",
      "Epoch 7/40\n",
      "1875/1875 [==============================] - 61s 32ms/step - loss: 0.1513 - accuracy: 0.9554\n",
      "Epoch 8/40\n",
      "1875/1875 [==============================] - 75s 40ms/step - loss: 0.1466 - accuracy: 0.9572\n",
      "Epoch 9/40\n",
      "1875/1875 [==============================] - 67s 36ms/step - loss: 0.1461 - accuracy: 0.9566\n",
      "Epoch 10/40\n",
      "1875/1875 [==============================] - 67s 36ms/step - loss: 0.1374 - accuracy: 0.9598\n",
      "Epoch 11/40\n",
      "1875/1875 [==============================] - 65s 35ms/step - loss: 0.1381 - accuracy: 0.9590\n",
      "Epoch 12/40\n",
      "1875/1875 [==============================] - 64s 34ms/step - loss: 0.1338 - accuracy: 0.9599\n",
      "Epoch 13/40\n",
      "1875/1875 [==============================] - 63s 33ms/step - loss: 0.1344 - accuracy: 0.9598\n",
      "Epoch 14/40\n",
      "1875/1875 [==============================] - 63s 34ms/step - loss: 0.1357 - accuracy: 0.9594\n",
      "Epoch 15/40\n",
      "1875/1875 [==============================] - 62s 33ms/step - loss: 0.1297 - accuracy: 0.9623\n",
      "Epoch 16/40\n",
      "1875/1875 [==============================] - 63s 34ms/step - loss: 0.1217 - accuracy: 0.9636\n",
      "Epoch 17/40\n",
      "1875/1875 [==============================] - 67s 36ms/step - loss: 0.1251 - accuracy: 0.9624\n",
      "Epoch 18/40\n",
      "1875/1875 [==============================] - 65s 35ms/step - loss: 0.1205 - accuracy: 0.9651\n",
      "Epoch 19/40\n",
      "1875/1875 [==============================] - 76s 40ms/step - loss: 0.1248 - accuracy: 0.9625\n",
      "Epoch 20/40\n",
      "1875/1875 [==============================] - 75s 40ms/step - loss: 0.1210 - accuracy: 0.9651\n",
      "Epoch 21/40\n",
      "1875/1875 [==============================] - 67s 36ms/step - loss: 0.1200 - accuracy: 0.9637\n",
      "Epoch 22/40\n",
      "1875/1875 [==============================] - 68s 36ms/step - loss: 0.1188 - accuracy: 0.9653\n",
      "Epoch 23/40\n",
      "1875/1875 [==============================] - 69s 37ms/step - loss: 0.1171 - accuracy: 0.9645\n",
      "Epoch 24/40\n",
      "1875/1875 [==============================] - 70s 37ms/step - loss: 0.1202 - accuracy: 0.9656\n",
      "Epoch 25/40\n",
      "1875/1875 [==============================] - 67s 36ms/step - loss: 0.1192 - accuracy: 0.9652\n",
      "Epoch 26/40\n",
      "1875/1875 [==============================] - 67s 36ms/step - loss: 0.1173 - accuracy: 0.9657\n",
      "Epoch 27/40\n",
      "1875/1875 [==============================] - 67s 36ms/step - loss: 0.1185 - accuracy: 0.9660\n",
      "Epoch 28/40\n",
      "1875/1875 [==============================] - 69s 37ms/step - loss: 0.1167 - accuracy: 0.9654\n",
      "Epoch 29/40\n",
      "1875/1875 [==============================] - 69s 37ms/step - loss: 0.1186 - accuracy: 0.9656\n",
      "Epoch 30/40\n",
      "1875/1875 [==============================] - 68s 36ms/step - loss: 0.1149 - accuracy: 0.9664\n",
      "Epoch 31/40\n",
      "1875/1875 [==============================] - 66s 35ms/step - loss: 0.1126 - accuracy: 0.9662\n",
      "Epoch 32/40\n",
      "1875/1875 [==============================] - 65s 35ms/step - loss: 0.1122 - accuracy: 0.9664\n",
      "Epoch 33/40\n",
      "1875/1875 [==============================] - 62s 33ms/step - loss: 0.1129 - accuracy: 0.9668\n",
      "Epoch 34/40\n",
      "1875/1875 [==============================] - 61s 33ms/step - loss: 0.1126 - accuracy: 0.9667\n",
      "Epoch 35/40\n",
      "1875/1875 [==============================] - 62s 33ms/step - loss: 0.1123 - accuracy: 0.9667\n",
      "Epoch 36/40\n",
      "1875/1875 [==============================] - 61s 33ms/step - loss: 0.1138 - accuracy: 0.9662\n",
      "Epoch 37/40\n",
      "1875/1875 [==============================] - 62s 33ms/step - loss: 0.1086 - accuracy: 0.9678\n",
      "Epoch 38/40\n",
      "1875/1875 [==============================] - 62s 33ms/step - loss: 0.1120 - accuracy: 0.9668\n",
      "Epoch 39/40\n",
      "1875/1875 [==============================] - 63s 34ms/step - loss: 0.1107 - accuracy: 0.9669\n",
      "Epoch 40/40\n",
      "1875/1875 [==============================] - 62s 33ms/step - loss: 0.1096 - accuracy: 0.9672\n"
     ]
    },
    {
     "data": {
      "text/plain": [
       "<tensorflow.python.keras.callbacks.History at 0x20cc5fefd48>"
      ]
     },
     "execution_count": 32,
     "metadata": {},
     "output_type": "execute_result"
    }
   ],
   "source": [
    "tf.random.set_seed(1234)\n",
    "es=tf.keras.callbacks.EarlyStopping(monitor='loss',patience=5) # to prevent overfitting\n",
    "\n",
    "model=tf.keras.Sequential(\n",
    "[\n",
    "    layers.Conv2D(filters=9, kernel_size=(3, 3), activation='relu', padding='same'),    \n",
    "    layers.MaxPooling2D(pool_size=(3, 3)),\n",
    "    layers.Dropout(0.4),\n",
    "    \n",
    "    layers.Conv2D(filters=6, kernel_size=(3, 3), activation='relu', padding='same'),    \n",
    "    layers.Dropout(0.4),\n",
    "    \n",
    "    \n",
    "    layers.Flatten(),\n",
    "    layers.Dense(32, activation='relu'),\n",
    "    layers.Dense(10,activation='softmax')\n",
    "    \n",
    "])\n",
    "\n",
    "model.compile(loss='CategoricalCrossentropy',optimizer='adam',metrics = ['accuracy'] )\n",
    "\n",
    "model.fit(datagen.flow(train_x,train_y),epochs = 40, callbacks=[es])"
   ]
  },
  {
   "cell_type": "code",
   "execution_count": 33,
   "metadata": {},
   "outputs": [],
   "source": [
    "model.save(\"weights.h5\")"
   ]
  }
 ],
 "metadata": {
  "kernelspec": {
   "display_name": "Python 3",
   "language": "python",
   "name": "python3"
  },
  "language_info": {
   "codemirror_mode": {
    "name": "ipython",
    "version": 3
   },
   "file_extension": ".py",
   "mimetype": "text/x-python",
   "name": "python",
   "nbconvert_exporter": "python",
   "pygments_lexer": "ipython3",
   "version": "3.7.6"
  }
 },
 "nbformat": 4,
 "nbformat_minor": 4
}
