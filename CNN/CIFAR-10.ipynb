{
 "cells": [
  {
   "cell_type": "code",
   "execution_count": 1,
   "metadata": {},
   "outputs": [],
   "source": [
    "import pandas as pd \n",
    "import pickle\n",
    "import re\n",
    "import tensorflow as tf\n",
    "import matplotlib.pyplot as plt\n",
    "from tensorflow.keras import layers\n",
    "from tensorflow.keras import Model\n",
    "import numpy as np\n",
    "from tensorflow import keras\n",
    "import pydot\n",
    "from sklearn.preprocessing import OneHotEncoder"
   ]
  },
  {
   "cell_type": "markdown",
   "metadata": {},
   "source": [
    "Unpack the CIFAR-10 file"
   ]
  },
  {
   "cell_type": "code",
   "execution_count": 2,
   "metadata": {},
   "outputs": [],
   "source": [
    "def unpickle(file):\n",
    "    with open(file, 'rb') as fo:\n",
    "        dict1 = pickle.load(fo, encoding='bytes')\n",
    "    return dict1\n",
    "pd_tr = pd.DataFrame()\n",
    "tr_y = pd.DataFrame()\n",
    "for i in range(1,6):\n",
    "    data = unpickle('cifar-10-batches-py/data_batch_' + str(i))\n",
    "    pd_tr = pd_tr.append(pd.DataFrame(data[b'data']))\n",
    "    tr_y = tr_y.append(pd.DataFrame(data[b'labels']))\n",
    "    pd_tr['labels'] = tr_y\n",
    "tr_x = np.asarray(pd_tr.iloc[:, :3072])\n",
    "tr_y = np.asarray(pd_tr['labels'])\n",
    "ts_x = np.asarray(unpickle('cifar-10-batches-py/test_batch')[b'data'])\n",
    "ts_y = np.asarray(unpickle('cifar-10-batches-py/test_batch')[b'labels'])    \n",
    "labels = unpickle('cifar-10-batches-py/batches.meta')[b'label_names']"
   ]
  },
  {
   "cell_type": "markdown",
   "metadata": {},
   "source": [
    "One-Hot Encode the label and normalize the paixel values"
   ]
  },
  {
   "cell_type": "code",
   "execution_count": 3,
   "metadata": {},
   "outputs": [],
   "source": [
    "ohe = OneHotEncoder()\n",
    "ohe.fit(tr_y.reshape(-1,1))\n",
    "tr_ye = ohe.transform(tr_y.reshape(-1,1))\n",
    "tr_ya=tr_ye.toarray()\n",
    "for i in range(len(tr_ya)):\n",
    "    a=tf.math.argmax(tr_ya[i])\n",
    "    tr_ya[i][np.array(a)]=1\n",
    "trx1=tr_x/255"
   ]
  },
  {
   "cell_type": "markdown",
   "metadata": {},
   "source": [
    "Simple multiclass logistic regression"
   ]
  },
  {
   "cell_type": "code",
   "execution_count": 4,
   "metadata": {},
   "outputs": [
    {
     "name": "stdout",
     "output_type": "stream",
     "text": [
      "Epoch 1/50\n",
      "10/10 [==============================] - 1s 79ms/step - loss: 2.2573 - accuracy: 0.1381\n",
      "Epoch 2/50\n",
      "10/10 [==============================] - 1s 90ms/step - loss: 2.0640 - accuracy: 0.2540\n",
      "Epoch 3/50\n",
      "10/10 [==============================] - 1s 93ms/step - loss: 1.9514 - accuracy: 0.3044\n",
      "Epoch 4/50\n",
      "10/10 [==============================] - 1s 92ms/step - loss: 1.8923 - accuracy: 0.3332 0s - loss: 1.9001 - ac\n",
      "Epoch 5/50\n",
      "10/10 [==============================] - 1s 86ms/step - loss: 1.8601 - accuracy: 0.3511\n",
      "Epoch 6/50\n",
      "10/10 [==============================] - 1s 76ms/step - loss: 1.8438 - accuracy: 0.3569\n",
      "Epoch 7/50\n",
      "10/10 [==============================] - 1s 88ms/step - loss: 1.8269 - accuracy: 0.3651\n",
      "Epoch 8/50\n",
      "10/10 [==============================] - 1s 86ms/step - loss: 1.8146 - accuracy: 0.3723\n",
      "Epoch 9/50\n",
      "10/10 [==============================] - 1s 87ms/step - loss: 1.8049 - accuracy: 0.3766\n",
      "Epoch 10/50\n",
      "10/10 [==============================] - 1s 97ms/step - loss: 1.7970 - accuracy: 0.3789\n",
      "Epoch 11/50\n",
      "10/10 [==============================] - 1s 105ms/step - loss: 1.7881 - accuracy: 0.3831\n",
      "Epoch 12/50\n",
      "10/10 [==============================] - 1s 104ms/step - loss: 1.7809 - accuracy: 0.3878\n",
      "Epoch 13/50\n",
      "10/10 [==============================] - 1s 99ms/step - loss: 1.7764 - accuracy: 0.3888\n",
      "Epoch 14/50\n",
      "10/10 [==============================] - 1s 96ms/step - loss: 1.7713 - accuracy: 0.3917\n",
      "Epoch 15/50\n",
      "10/10 [==============================] - 1s 92ms/step - loss: 1.7678 - accuracy: 0.3934\n",
      "Epoch 16/50\n",
      "10/10 [==============================] - 1s 92ms/step - loss: 1.7634 - accuracy: 0.3952\n",
      "Epoch 17/50\n",
      "10/10 [==============================] - 1s 92ms/step - loss: 1.7613 - accuracy: 0.3932\n",
      "Epoch 18/50\n",
      "10/10 [==============================] - 1s 93ms/step - loss: 1.7601 - accuracy: 0.3919\n",
      "Epoch 19/50\n",
      "10/10 [==============================] - 1s 95ms/step - loss: 1.7539 - accuracy: 0.3974\n",
      "Epoch 20/50\n",
      "10/10 [==============================] - 1s 85ms/step - loss: 1.7500 - accuracy: 0.3986\n",
      "Epoch 21/50\n",
      "10/10 [==============================] - 1s 93ms/step - loss: 1.7479 - accuracy: 0.3999\n",
      "Epoch 22/50\n",
      "10/10 [==============================] - 1s 90ms/step - loss: 1.7462 - accuracy: 0.3994\n",
      "Epoch 23/50\n",
      "10/10 [==============================] - 1s 88ms/step - loss: 1.7455 - accuracy: 0.4009\n",
      "Epoch 24/50\n",
      "10/10 [==============================] - 1s 96ms/step - loss: 1.7397 - accuracy: 0.4059\n",
      "Epoch 25/50\n",
      "10/10 [==============================] - 1s 106ms/step - loss: 1.7361 - accuracy: 0.4070\n",
      "Epoch 26/50\n",
      "10/10 [==============================] - 1s 91ms/step - loss: 1.7348 - accuracy: 0.4060\n",
      "Epoch 27/50\n",
      "10/10 [==============================] - 1s 91ms/step - loss: 1.7336 - accuracy: 0.4064\n",
      "Epoch 28/50\n",
      "10/10 [==============================] - 1s 90ms/step - loss: 1.7340 - accuracy: 0.4066 0s - loss: 1.7219 \n",
      "Epoch 29/50\n",
      "10/10 [==============================] - 1s 95ms/step - loss: 1.7357 - accuracy: 0.4042\n",
      "Epoch 30/50\n",
      "10/10 [==============================] - 1s 95ms/step - loss: 1.7306 - accuracy: 0.4064\n",
      "Epoch 31/50\n",
      "10/10 [==============================] - 1s 83ms/step - loss: 1.7290 - accuracy: 0.4075\n",
      "Epoch 32/50\n",
      "10/10 [==============================] - 1s 84ms/step - loss: 1.7263 - accuracy: 0.4083\n",
      "Epoch 33/50\n",
      "10/10 [==============================] - 1s 81ms/step - loss: 1.7267 - accuracy: 0.4080\n",
      "Epoch 34/50\n",
      "10/10 [==============================] - 1s 83ms/step - loss: 1.7243 - accuracy: 0.4094\n",
      "Epoch 35/50\n",
      "10/10 [==============================] - 1s 85ms/step - loss: 1.7242 - accuracy: 0.4091\n",
      "Epoch 36/50\n",
      "10/10 [==============================] - 1s 85ms/step - loss: 1.7208 - accuracy: 0.4122\n",
      "Epoch 37/50\n",
      "10/10 [==============================] - 1s 79ms/step - loss: 1.7167 - accuracy: 0.4133\n",
      "Epoch 38/50\n",
      "10/10 [==============================] - 1s 82ms/step - loss: 1.7178 - accuracy: 0.4131\n",
      "Epoch 39/50\n",
      "10/10 [==============================] - 1s 84ms/step - loss: 1.7181 - accuracy: 0.4128\n",
      "Epoch 40/50\n",
      "10/10 [==============================] - 1s 86ms/step - loss: 1.7192 - accuracy: 0.4111\n",
      "Epoch 41/50\n",
      "10/10 [==============================] - 1s 87ms/step - loss: 1.7161 - accuracy: 0.4136\n",
      "Epoch 42/50\n",
      "10/10 [==============================] - 1s 86ms/step - loss: 1.7119 - accuracy: 0.4138\n",
      "Epoch 43/50\n",
      "10/10 [==============================] - 1s 76ms/step - loss: 1.7124 - accuracy: 0.4159\n",
      "Epoch 44/50\n",
      "10/10 [==============================] - 1s 83ms/step - loss: 1.7102 - accuracy: 0.4160\n",
      "Epoch 45/50\n",
      "10/10 [==============================] - ETA: 0s - loss: 1.7096 - accuracy: 0.41 - 1s 76ms/step - loss: 1.7096 - accuracy: 0.4151\n",
      "Epoch 46/50\n",
      "10/10 [==============================] - 1s 83ms/step - loss: 1.7084 - accuracy: 0.4165\n",
      "Epoch 47/50\n",
      "10/10 [==============================] - 1s 84ms/step - loss: 1.7070 - accuracy: 0.4167\n",
      "Epoch 48/50\n",
      "10/10 [==============================] - 1s 85ms/step - loss: 1.7057 - accuracy: 0.4174\n",
      "Epoch 49/50\n",
      "10/10 [==============================] - 1s 89ms/step - loss: 1.7053 - accuracy: 0.4171\n",
      "Epoch 50/50\n",
      "10/10 [==============================] - 1s 85ms/step - loss: 1.7017 - accuracy: 0.4200\n"
     ]
    }
   ],
   "source": [
    "lr=keras.Sequential(\n",
    "[\n",
    "    layers.Dense(10,activation=\"sigmoid\")\n",
    "])\n",
    "lr.compile(optimizer='adam',loss=tf.keras.losses.SparseCategoricalCrossentropy(),metrics=['accuracy'])\n",
    "history1=lr.fit(trx1,tr_y, epochs=50, batch_size=5000)"
   ]
  },
  {
   "cell_type": "markdown",
   "metadata": {},
   "source": [
    "Complex ANN"
   ]
  },
  {
   "cell_type": "code",
   "execution_count": 5,
   "metadata": {},
   "outputs": [
    {
     "name": "stdout",
     "output_type": "stream",
     "text": [
      "Epoch 1/50\n",
      "10/10 [==============================] - 1s 147ms/step - loss: 2.2851 - accuracy: 0.1510\n",
      "Epoch 2/50\n",
      "10/10 [==============================] - 2s 158ms/step - loss: 2.0818 - accuracy: 0.2313\n",
      "Epoch 3/50\n",
      "10/10 [==============================] - 1s 139ms/step - loss: 1.9614 - accuracy: 0.2882\n",
      "Epoch 4/50\n",
      "10/10 [==============================] - 1s 148ms/step - loss: 1.8922 - accuracy: 0.3265\n",
      "Epoch 5/50\n",
      "10/10 [==============================] - 2s 157ms/step - loss: 1.8532 - accuracy: 0.3396\n",
      "Epoch 6/50\n",
      "10/10 [==============================] - 1s 144ms/step - loss: 1.8138 - accuracy: 0.3545\n",
      "Epoch 7/50\n",
      "10/10 [==============================] - 1s 149ms/step - loss: 1.7795 - accuracy: 0.3660\n",
      "Epoch 8/50\n",
      "10/10 [==============================] - 1s 141ms/step - loss: 1.7557 - accuracy: 0.3771\n",
      "Epoch 9/50\n",
      "10/10 [==============================] - 1s 144ms/step - loss: 1.7330 - accuracy: 0.3848\n",
      "Epoch 10/50\n",
      "10/10 [==============================] - 1s 148ms/step - loss: 1.7101 - accuracy: 0.3933\n",
      "Epoch 11/50\n",
      "10/10 [==============================] - 1s 148ms/step - loss: 1.6848 - accuracy: 0.4014\n",
      "Epoch 12/50\n",
      "10/10 [==============================] - 1s 146ms/step - loss: 1.6653 - accuracy: 0.4105\n",
      "Epoch 13/50\n",
      "10/10 [==============================] - 1s 148ms/step - loss: 1.6490 - accuracy: 0.4168\n",
      "Epoch 14/50\n",
      "10/10 [==============================] - 1s 139ms/step - loss: 1.6370 - accuracy: 0.4217\n",
      "Epoch 15/50\n",
      "10/10 [==============================] - 1s 140ms/step - loss: 1.6311 - accuracy: 0.4220\n",
      "Epoch 16/50\n",
      "10/10 [==============================] - 1s 143ms/step - loss: 1.6076 - accuracy: 0.4312\n",
      "Epoch 17/50\n",
      "10/10 [==============================] - 1s 144ms/step - loss: 1.5948 - accuracy: 0.4362\n",
      "Epoch 18/50\n",
      "10/10 [==============================] - 1s 144ms/step - loss: 1.5783 - accuracy: 0.4418\n",
      "Epoch 19/50\n",
      "10/10 [==============================] - 1s 144ms/step - loss: 1.5850 - accuracy: 0.4392\n",
      "Epoch 20/50\n",
      "10/10 [==============================] - 1s 141ms/step - loss: 1.5736 - accuracy: 0.4415\n",
      "Epoch 21/50\n",
      "10/10 [==============================] - 1s 143ms/step - loss: 1.5563 - accuracy: 0.4485\n",
      "Epoch 22/50\n",
      "10/10 [==============================] - 2s 153ms/step - loss: 1.5419 - accuracy: 0.4540\n",
      "Epoch 23/50\n",
      "10/10 [==============================] - 1s 139ms/step - loss: 1.5260 - accuracy: 0.4592\n",
      "Epoch 24/50\n",
      "10/10 [==============================] - 1s 148ms/step - loss: 1.5169 - accuracy: 0.4628\n",
      "Epoch 25/50\n",
      "10/10 [==============================] - 1s 140ms/step - loss: 1.5133 - accuracy: 0.4658\n",
      "Epoch 26/50\n",
      "10/10 [==============================] - 1s 142ms/step - loss: 1.5091 - accuracy: 0.46550s - loss: 1.5083 - accuracy: 0.\n",
      "Epoch 27/50\n",
      "10/10 [==============================] - 2s 154ms/step - loss: 1.5056 - accuracy: 0.4681\n",
      "Epoch 28/50\n",
      "10/10 [==============================] - 2s 154ms/step - loss: 1.4888 - accuracy: 0.4725\n",
      "Epoch 29/50\n",
      "10/10 [==============================] - 1s 142ms/step - loss: 1.4875 - accuracy: 0.4738\n",
      "Epoch 30/50\n",
      "10/10 [==============================] - 2s 168ms/step - loss: 1.4760 - accuracy: 0.4774\n",
      "Epoch 31/50\n",
      "10/10 [==============================] - 1s 141ms/step - loss: 1.4687 - accuracy: 0.4791\n",
      "Epoch 32/50\n",
      "10/10 [==============================] - 1s 145ms/step - loss: 1.4674 - accuracy: 0.4782\n",
      "Epoch 33/50\n",
      "10/10 [==============================] - 2s 152ms/step - loss: 1.4622 - accuracy: 0.4814\n",
      "Epoch 34/50\n",
      "10/10 [==============================] - 1s 143ms/step - loss: 1.4498 - accuracy: 0.4868\n",
      "Epoch 35/50\n",
      "10/10 [==============================] - 1s 141ms/step - loss: 1.4477 - accuracy: 0.4884\n",
      "Epoch 36/50\n",
      "10/10 [==============================] - 2s 153ms/step - loss: 1.4727 - accuracy: 0.4784\n",
      "Epoch 37/50\n",
      "10/10 [==============================] - 1s 143ms/step - loss: 1.4624 - accuracy: 0.4803\n",
      "Epoch 38/50\n",
      "10/10 [==============================] - 2s 152ms/step - loss: 1.4344 - accuracy: 0.4918\n",
      "Epoch 39/50\n",
      "10/10 [==============================] - 2s 192ms/step - loss: 1.4248 - accuracy: 0.49670s - loss: 1.4229 - accura\n",
      "Epoch 40/50\n",
      "10/10 [==============================] - 2s 167ms/step - loss: 1.4139 - accuracy: 0.5012\n",
      "Epoch 41/50\n",
      "10/10 [==============================] - 1s 144ms/step - loss: 1.4063 - accuracy: 0.5050\n",
      "Epoch 42/50\n",
      "10/10 [==============================] - 1s 148ms/step - loss: 1.4102 - accuracy: 0.5008\n",
      "Epoch 43/50\n",
      "10/10 [==============================] - 2s 164ms/step - loss: 1.4074 - accuracy: 0.5008\n",
      "Epoch 44/50\n",
      "10/10 [==============================] - 2s 156ms/step - loss: 1.4005 - accuracy: 0.5043\n",
      "Epoch 45/50\n",
      "10/10 [==============================] - 2s 161ms/step - loss: 1.3919 - accuracy: 0.5077\n",
      "Epoch 46/50\n",
      "10/10 [==============================] - 2s 163ms/step - loss: 1.3896 - accuracy: 0.5084\n",
      "Epoch 47/50\n",
      "10/10 [==============================] - 2s 163ms/step - loss: 1.3837 - accuracy: 0.5103\n",
      "Epoch 48/50\n",
      "10/10 [==============================] - 1s 140ms/step - loss: 1.3815 - accuracy: 0.5102\n",
      "Epoch 49/50\n",
      "10/10 [==============================] - 1s 143ms/step - loss: 1.3752 - accuracy: 0.5146\n",
      "Epoch 50/50\n",
      "10/10 [==============================] - 2s 163ms/step - loss: 1.3818 - accuracy: 0.5113\n"
     ]
    }
   ],
   "source": [
    "ann=keras.Sequential(\n",
    "[\n",
    "    layers.Dense(100,activation=\"relu\"),\n",
    "    layers.Dense(100,activation=\"relu\"),\n",
    "    layers.Dense(100,activation=\"relu\"),\n",
    "    layers.Dense(10,activation=\"softmax\")\n",
    "    \n",
    "])\n",
    "ann.compile(optimizer='adam',loss=tf.keras.losses.SparseCategoricalCrossentropy(),metrics=['accuracy'])\n",
    "history2=ann.fit(trx1,tr_y, epochs=50, batch_size=5000)"
   ]
  },
  {
   "cell_type": "markdown",
   "metadata": {},
   "source": [
    "Visualize the difference"
   ]
  },
  {
   "cell_type": "code",
   "execution_count": 6,
   "metadata": {},
   "outputs": [
    {
     "data": {
      "image/png": "[encoded data removed]",
      "text/plain": [
       "<Figure size 432x288 with 1 Axes>"
      ]
     },
     "metadata": {
      "needs_background": "light"
     },
     "output_type": "display_data"
    }
   ],
   "source": [
    "plt.plot(history2.history['accuracy'])\n",
    "plt.plot(history1.history['accuracy'])\n",
    "plt.title('model accuracy')\n",
    "plt.ylabel('accuracy')\n",
    "plt.xlabel('epoch')\n",
    "plt.legend(['Complex ANN', 'LogisticRegression'], loc='upper left')\n",
    "plt.show()"
   ]
  },
  {
   "cell_type": "code",
   "execution_count": 9,
   "metadata": {},
   "outputs": [
    {
     "data": {
      "image/png": "[encoded data removed]",
      "text/plain": [
       "<Figure size 432x288 with 1 Axes>"
      ]
     },
     "metadata": {
      "needs_background": "light"
     },
     "output_type": "display_data"
    }
   ],
   "source": [
    "plt.plot(history2.history['loss'])\n",
    "plt.plot(history1.history['loss'])\n",
    "plt.title('model loss')\n",
    "plt.ylabel('loss')\n",
    "plt.xlabel('epoch')\n",
    "plt.legend(['Complex ANN', 'LogisticRegression'], loc='upper left')\n",
    "plt.show()"
   ]
  }
 ],
 "metadata": {
  "kernelspec": {
   "display_name": "Python 3",
   "language": "python",
   "name": "python3"
  },
  "language_info": {
   "codemirror_mode": {
    "name": "ipython",
    "version": 3
   },
   "file_extension": ".py",
   "mimetype": "text/x-python",
   "name": "python",
   "nbconvert_exporter": "python",
   "pygments_lexer": "ipython3",
   "version": "3.7.6"
  }
 },
 "nbformat": 4,
 "nbformat_minor": 4
}
