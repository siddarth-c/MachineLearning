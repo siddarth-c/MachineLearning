{
 "cells": [
  {
   "cell_type": "markdown",
   "metadata": {},
   "source": [
    "## CHEST X-RAY PNEUMONIA"
   ]
  },
  {
   "cell_type": "markdown",
   "metadata": {},
   "source": [
    "#### https://www.kaggle.com/paultimothymooney/chest-xray-pneumonia"
   ]
  },
  {
   "cell_type": "markdown",
   "metadata": {},
   "source": [
    "#### Import required libraries"
   ]
  },
  {
   "cell_type": "code",
   "execution_count": 1,
   "metadata": {},
   "outputs": [],
   "source": [
    "import cv2\n",
    "import numpy as np\n",
    "from matplotlib import pyplot as plt\n",
    "import glob\n",
    "from PIL import Image\n",
    "\n",
    "from sklearn.model_selection import train_test_split\n",
    "\n",
    "import tensorflow as tf\n",
    "from tensorflow.keras.models import Sequential \n",
    "from tensorflow.keras import layers"
   ]
  },
  {
   "cell_type": "markdown",
   "metadata": {},
   "source": [
    "## TRAIN"
   ]
  },
  {
   "cell_type": "markdown",
   "metadata": {},
   "source": [
    "#### Import class NORMAL images of training set"
   ]
  },
  {
   "cell_type": "code",
   "execution_count": 2,
   "metadata": {},
   "outputs": [],
   "source": [
    "train_x=[]\n",
    "\n",
    "path=r'C:\\Users\\ADMIN\\xray\\train\\NORMAL\\*.jpeg'\n",
    "\n",
    "for filename in glob.glob(path): \n",
    "    im=Image.open(filename).convert('L') # convert('L') - converts RGB images (if any) to grayscale\n",
    "    img = im.resize((100, 100)) \n",
    "    train_x.append(tf.keras.preprocessing.image.img_to_array(img))"
   ]
  },
  {
   "cell_type": "markdown",
   "metadata": {},
   "source": [
    "#### Create train_y of size NORMAL with zeros"
   ]
  },
  {
   "cell_type": "code",
   "execution_count": 3,
   "metadata": {},
   "outputs": [],
   "source": [
    "a=len(train_x)\n",
    "train_y=np.zeros(a)"
   ]
  },
  {
   "cell_type": "markdown",
   "metadata": {},
   "source": [
    "#### Import class PNEUMONIA images of training set"
   ]
  },
  {
   "cell_type": "code",
   "execution_count": 4,
   "metadata": {},
   "outputs": [],
   "source": [
    "path=r'C:\\Users\\ADMIN\\xray\\train\\PNEUMONIA\\*.jpeg'\n",
    "\n",
    "for filename in glob.glob(path): \n",
    "    im=Image.open(filename).convert('L') # convert('L') - converts RGB images (if any) to grayscale\n",
    "    img = im.resize((100, 100)) \n",
    "    train_x.append(tf.keras.preprocessing.image.img_to_array(img))"
   ]
  },
  {
   "cell_type": "markdown",
   "metadata": {},
   "source": [
    "#### Concatenate train_y  with ones of size PNEUMONIA"
   ]
  },
  {
   "cell_type": "code",
   "execution_count": 5,
   "metadata": {},
   "outputs": [],
   "source": [
    "b=len(train_x)\n",
    "trainy=np.concatenate((train_y,np.ones(b-a)))"
   ]
  },
  {
   "cell_type": "code",
   "execution_count": 6,
   "metadata": {},
   "outputs": [],
   "source": [
    "trainx = np.stack(train_x) # Converts the list of arrays to a array of arrays"
   ]
  },
  {
   "cell_type": "markdown",
   "metadata": {},
   "source": [
    "#### Cross verify"
   ]
  },
  {
   "cell_type": "code",
   "execution_count": 7,
   "metadata": {},
   "outputs": [
    {
     "data": {
      "image/png": "[encoded data removed]",
      "text/plain": [
       "<PIL.Image.Image image mode=L size=100x100 at 0x1E8EF3D0148>"
      ]
     },
     "execution_count": 7,
     "metadata": {},
     "output_type": "execute_result"
    }
   ],
   "source": [
    "img = tf.keras.preprocessing.image.array_to_img(trainx[0]) \n",
    "img"
   ]
  },
  {
   "cell_type": "markdown",
   "metadata": {},
   "source": [
    "## VALID"
   ]
  },
  {
   "cell_type": "markdown",
   "metadata": {},
   "source": [
    "### Import class NORMAL images of validation set"
   ]
  },
  {
   "cell_type": "code",
   "execution_count": 8,
   "metadata": {},
   "outputs": [],
   "source": [
    "val_x=[]\n",
    "\n",
    "path=r'C:\\Users\\ADMIN\\xray\\val\\NORMAL\\*.jpeg'\n",
    "\n",
    "for filename in glob.glob(path): \n",
    "    im=Image.open(filename).convert('L') # convert('L') - converts RGB images (if any) to grayscale\n",
    "    img = im.resize((100, 100)) \n",
    "    val_x.append(tf.keras.preprocessing.image.img_to_array(img))"
   ]
  },
  {
   "cell_type": "markdown",
   "metadata": {},
   "source": [
    "#### Create val_y of size NORMAL with zeros"
   ]
  },
  {
   "cell_type": "code",
   "execution_count": 9,
   "metadata": {},
   "outputs": [],
   "source": [
    "a=len(val_x)\n",
    "val_y=np.zeros(a)"
   ]
  },
  {
   "cell_type": "markdown",
   "metadata": {},
   "source": [
    "#### Import class PNEUMONIA images of validation set"
   ]
  },
  {
   "cell_type": "code",
   "execution_count": 10,
   "metadata": {},
   "outputs": [],
   "source": [
    "path=r'C:\\Users\\ADMIN\\xray\\val\\PNEUMONIA\\*.jpeg'\n",
    "\n",
    "for filename in glob.glob(path): \n",
    "    im=Image.open(filename).convert('L') # convert('L') - converts RGB images (if any) to grayscale\n",
    "    img = im.resize((100, 100)) \n",
    "    val_x.append(tf.keras.preprocessing.image.img_to_array(img))"
   ]
  },
  {
   "cell_type": "markdown",
   "metadata": {},
   "source": [
    "#### Concatenate train_y  with ones of size PNEUMONIA"
   ]
  },
  {
   "cell_type": "code",
   "execution_count": 11,
   "metadata": {},
   "outputs": [],
   "source": [
    "b=len(val_x)\n",
    "valy=np.concatenate((val_y,np.ones(b-a)))"
   ]
  },
  {
   "cell_type": "code",
   "execution_count": 12,
   "metadata": {},
   "outputs": [],
   "source": [
    "valx = np.stack(val_x) # Converts the list of arrays to a array of arrays"
   ]
  },
  {
   "cell_type": "markdown",
   "metadata": {},
   "source": [
    "## TEST"
   ]
  },
  {
   "cell_type": "markdown",
   "metadata": {},
   "source": [
    "#### Import class NORMAL images of test set"
   ]
  },
  {
   "cell_type": "code",
   "execution_count": 13,
   "metadata": {},
   "outputs": [],
   "source": [
    "test_x=[]\n",
    "\n",
    "path=r'C:\\Users\\ADMIN\\xray\\test\\NORMAL\\*.jpeg'\n",
    "\n",
    "for filename in glob.glob(path): \n",
    "    im=Image.open(filename).convert('L') # convert('L') - converts RGB images (if any) to grayscale\n",
    "    img = im.resize((100, 100)) \n",
    "    test_x.append(tf.keras.preprocessing.image.img_to_array(img))"
   ]
  },
  {
   "cell_type": "markdown",
   "metadata": {},
   "source": [
    "#### Create test_y of size NORMAL with zeros"
   ]
  },
  {
   "cell_type": "code",
   "execution_count": 14,
   "metadata": {},
   "outputs": [],
   "source": [
    "a=len(test_x)\n",
    "test_y=np.zeros(a)"
   ]
  },
  {
   "cell_type": "markdown",
   "metadata": {},
   "source": [
    "#### Import class PNEUMONIA images of test set"
   ]
  },
  {
   "cell_type": "code",
   "execution_count": 15,
   "metadata": {},
   "outputs": [],
   "source": [
    "path=r'C:\\Users\\ADMIN\\xray\\train\\PNEUMONIA\\*.jpeg'\n",
    "\n",
    "for filename in glob.glob(path): \n",
    "    im=Image.open(filename).convert('L') # convert('L') - converts RGB images (if any) to grayscale\n",
    "    img = im.resize((100, 100)) \n",
    "    test_x.append(tf.keras.preprocessing.image.img_to_array(img))"
   ]
  },
  {
   "cell_type": "markdown",
   "metadata": {},
   "source": [
    "#### Concatenate test_y  with ones of size PNEUMONIA"
   ]
  },
  {
   "cell_type": "code",
   "execution_count": 16,
   "metadata": {},
   "outputs": [],
   "source": [
    "b=len(test_x)\n",
    "testy=np.concatenate((test_y,np.ones(b-a)))"
   ]
  },
  {
   "cell_type": "code",
   "execution_count": 17,
   "metadata": {},
   "outputs": [],
   "source": [
    "testx = np.stack(test_x) # Converts the list of arrays to a array of arrays"
   ]
  },
  {
   "cell_type": "code",
   "execution_count": 18,
   "metadata": {},
   "outputs": [
    {
     "name": "stdout",
     "output_type": "stream",
     "text": [
      "train shape :  (5216, 100, 100, 1)\n",
      "valid shape :  (16, 100, 100, 1)\n",
      "test shape :  (4109, 100, 100, 1)\n"
     ]
    }
   ],
   "source": [
    "print('train shape : ',trainx.shape)\n",
    "print('valid shape : ',valx.shape)\n",
    "print('test shape : ',testx.shape)"
   ]
  },
  {
   "cell_type": "markdown",
   "metadata": {},
   "source": [
    "As the validation set is small let us use train_test_split to split data for our validation set."
   ]
  },
  {
   "cell_type": "code",
   "execution_count": 19,
   "metadata": {},
   "outputs": [],
   "source": [
    "tx,vx,ty,vy=train_test_split(trainx,trainy)"
   ]
  },
  {
   "cell_type": "markdown",
   "metadata": {},
   "source": [
    "#### Train Model"
   ]
  },
  {
   "cell_type": "code",
   "execution_count": 20,
   "metadata": {},
   "outputs": [
    {
     "name": "stdout",
     "output_type": "stream",
     "text": [
      "Epoch 1/40\n",
      "14/14 [==============================] - 49s 3s/step - loss: 13.4766 - accuracy: 0.6056 - val_loss: 0.5786 - val_accuracy: 0.7554\n",
      "Epoch 2/40\n",
      "14/14 [==============================] - 47s 3s/step - loss: 0.8440 - accuracy: 0.6805 - val_loss: 0.6559 - val_accuracy: 0.7546\n",
      "Epoch 3/40\n",
      "14/14 [==============================] - 42s 3s/step - loss: 0.6027 - accuracy: 0.7214 - val_loss: 0.6440 - val_accuracy: 0.7615\n",
      "Epoch 4/40\n",
      "14/14 [==============================] - 42s 3s/step - loss: 0.5552 - accuracy: 0.7405 - val_loss: 0.6121 - val_accuracy: 0.7661\n",
      "Epoch 5/40\n",
      "14/14 [==============================] - 42s 3s/step - loss: 0.5252 - accuracy: 0.7520 - val_loss: 0.5715 - val_accuracy: 0.7814\n",
      "Epoch 6/40\n",
      "14/14 [==============================] - 42s 3s/step - loss: 0.4732 - accuracy: 0.7791 - val_loss: 0.5548 - val_accuracy: 0.7922\n",
      "Epoch 7/40\n",
      "14/14 [==============================] - 42s 3s/step - loss: 0.4658 - accuracy: 0.7840 - val_loss: 0.5035 - val_accuracy: 0.8129\n",
      "Epoch 8/40\n",
      "14/14 [==============================] - 42s 3s/step - loss: 0.4215 - accuracy: 0.8137 - val_loss: 0.4505 - val_accuracy: 0.8466\n",
      "Epoch 9/40\n",
      "14/14 [==============================] - 42s 3s/step - loss: 0.4036 - accuracy: 0.8206 - val_loss: 0.4669 - val_accuracy: 0.8420\n",
      "Epoch 10/40\n",
      "14/14 [==============================] - 42s 3s/step - loss: 0.3878 - accuracy: 0.8326 - val_loss: 0.4322 - val_accuracy: 0.8497\n",
      "Epoch 11/40\n",
      "14/14 [==============================] - 42s 3s/step - loss: 0.3563 - accuracy: 0.8522 - val_loss: 0.4150 - val_accuracy: 0.8566\n",
      "Epoch 12/40\n",
      "14/14 [==============================] - 42s 3s/step - loss: 0.3594 - accuracy: 0.8453 - val_loss: 0.3505 - val_accuracy: 0.8589\n",
      "Epoch 13/40\n",
      "14/14 [==============================] - 42s 3s/step - loss: 0.3439 - accuracy: 0.8499 - val_loss: 0.3663 - val_accuracy: 0.8765\n",
      "Epoch 14/40\n",
      "14/14 [==============================] - 43s 3s/step - loss: 0.3248 - accuracy: 0.8635 - val_loss: 0.3725 - val_accuracy: 0.8712\n",
      "Epoch 15/40\n",
      "14/14 [==============================] - 41s 3s/step - loss: 0.3215 - accuracy: 0.8576 - val_loss: 0.3610 - val_accuracy: 0.8689\n",
      "Epoch 16/40\n",
      "14/14 [==============================] - 42s 3s/step - loss: 0.3112 - accuracy: 0.8635 - val_loss: 0.3789 - val_accuracy: 0.8735\n",
      "Epoch 17/40\n",
      "14/14 [==============================] - 41s 3s/step - loss: 0.2893 - accuracy: 0.8760 - val_loss: 0.2736 - val_accuracy: 0.8896\n",
      "Epoch 18/40\n",
      "14/14 [==============================] - 41s 3s/step - loss: 0.2997 - accuracy: 0.8686 - val_loss: 0.3299 - val_accuracy: 0.8850\n",
      "Epoch 19/40\n",
      "14/14 [==============================] - 41s 3s/step - loss: 0.2724 - accuracy: 0.8865 - val_loss: 0.3075 - val_accuracy: 0.8804\n",
      "Epoch 20/40\n",
      "14/14 [==============================] - 41s 3s/step - loss: 0.2865 - accuracy: 0.8730 - val_loss: 0.2828 - val_accuracy: 0.8888\n",
      "Epoch 21/40\n",
      "14/14 [==============================] - 41s 3s/step - loss: 0.2779 - accuracy: 0.8832 - val_loss: 0.3679 - val_accuracy: 0.8620\n",
      "Epoch 22/40\n",
      "14/14 [==============================] - 41s 3s/step - loss: 0.2931 - accuracy: 0.8791 - val_loss: 0.2502 - val_accuracy: 0.9018\n",
      "Epoch 23/40\n",
      "14/14 [==============================] - 41s 3s/step - loss: 0.2807 - accuracy: 0.8832 - val_loss: 0.3551 - val_accuracy: 0.8727\n",
      "Epoch 24/40\n",
      "14/14 [==============================] - 41s 3s/step - loss: 0.2704 - accuracy: 0.8847 - val_loss: 0.2691 - val_accuracy: 0.8949\n",
      "Epoch 25/40\n",
      "14/14 [==============================] - 41s 3s/step - loss: 0.2733 - accuracy: 0.8796 - val_loss: 0.2668 - val_accuracy: 0.8972\n",
      "Epoch 26/40\n",
      "14/14 [==============================] - 41s 3s/step - loss: 0.2465 - accuracy: 0.8903 - val_loss: 0.2699 - val_accuracy: 0.8949\n",
      "Epoch 27/40\n",
      "14/14 [==============================] - 41s 3s/step - loss: 0.2579 - accuracy: 0.8860 - val_loss: 0.3150 - val_accuracy: 0.8965\n",
      "Epoch 28/40\n",
      "14/14 [==============================] - 41s 3s/step - loss: 0.2504 - accuracy: 0.8980 - val_loss: 0.2154 - val_accuracy: 0.9164\n",
      "Epoch 29/40\n",
      "14/14 [==============================] - 41s 3s/step - loss: 0.2557 - accuracy: 0.8919 - val_loss: 0.2498 - val_accuracy: 0.9103\n",
      "Epoch 30/40\n",
      "14/14 [==============================] - 41s 3s/step - loss: 0.2387 - accuracy: 0.8988 - val_loss: 0.2654 - val_accuracy: 0.8934\n",
      "Epoch 31/40\n",
      "14/14 [==============================] - 41s 3s/step - loss: 0.2517 - accuracy: 0.8891 - val_loss: 0.2209 - val_accuracy: 0.9103\n",
      "Epoch 32/40\n",
      "14/14 [==============================] - 41s 3s/step - loss: 0.2365 - accuracy: 0.9013 - val_loss: 0.2287 - val_accuracy: 0.9110\n",
      "Epoch 33/40\n",
      "14/14 [==============================] - 41s 3s/step - loss: 0.2240 - accuracy: 0.9021 - val_loss: 0.2218 - val_accuracy: 0.9179\n",
      "Epoch 34/40\n",
      "14/14 [==============================] - 41s 3s/step - loss: 0.2459 - accuracy: 0.8937 - val_loss: 0.2557 - val_accuracy: 0.8957\n",
      "Epoch 35/40\n",
      "14/14 [==============================] - 41s 3s/step - loss: 0.2306 - accuracy: 0.9067 - val_loss: 0.2415 - val_accuracy: 0.8972\n",
      "Epoch 36/40\n",
      "14/14 [==============================] - 41s 3s/step - loss: 0.2270 - accuracy: 0.8985 - val_loss: 0.2409 - val_accuracy: 0.9057\n",
      "Epoch 37/40\n",
      "14/14 [==============================] - 41s 3s/step - loss: 0.2112 - accuracy: 0.9159 - val_loss: 0.2097 - val_accuracy: 0.9149\n",
      "Epoch 38/40\n",
      "14/14 [==============================] - 41s 3s/step - loss: 0.2390 - accuracy: 0.8934 - val_loss: 0.2334 - val_accuracy: 0.9018\n",
      "Epoch 39/40\n",
      "14/14 [==============================] - 41s 3s/step - loss: 0.2222 - accuracy: 0.9062 - val_loss: 0.2221 - val_accuracy: 0.9133\n",
      "Epoch 40/40\n",
      "14/14 [==============================] - 41s 3s/step - loss: 0.2048 - accuracy: 0.9123 - val_loss: 0.2625 - val_accuracy: 0.8919\n"
     ]
    }
   ],
   "source": [
    "tf.random.set_seed(1234)\n",
    "es=tf.keras.callbacks.EarlyStopping(monitor='loss',patience=5) # to prevent overfitting\n",
    "\n",
    "model=tf.keras.Sequential(\n",
    "[\n",
    "    layers.Conv2D(filters=60, kernel_size=(3, 3), activation='relu', padding='same'),    \n",
    "    layers.MaxPooling2D(pool_size=(4, 4)),\n",
    "    layers.Dropout(0.25),\n",
    "            \n",
    "    layers.Conv2D(40, (3, 3), activation='relu'),\n",
    "    layers.MaxPooling2D(pool_size=(8, 8)),\n",
    "    layers.Dropout(0.2),  \n",
    "    \n",
    "    layers.Flatten(),\n",
    "    layers.Dense(512, activation='relu'),\n",
    "    layers.Dense(128, activation='relu'),\n",
    "    layers.Dense(1,activation='sigmoid')\n",
    "    \n",
    "])\n",
    "\n",
    "model.compile(loss='BinaryCrossentropy',optimizer='adam',metrics=['accuracy'])\n",
    "mod=model.fit(tx,ty,validation_data=(vx,vy),batch_size=300,epochs=40,callbacks=[es])"
   ]
  },
  {
   "cell_type": "markdown",
   "metadata": {},
   "source": [
    "#### Visualize"
   ]
  },
  {
   "cell_type": "code",
   "execution_count": 21,
   "metadata": {},
   "outputs": [
    {
     "data": {
      "image/png": "[encoded data removed]",
      "text/plain": [
       "<Figure size 2160x720 with 2 Axes>"
      ]
     },
     "metadata": {
      "needs_background": "light"
     },
     "output_type": "display_data"
    }
   ],
   "source": [
    "fig=plt.subplots(figsize=(30,10))\n",
    "\n",
    "plt.subplot(1,2,1)\n",
    "plt.plot(mod.history['accuracy'])\n",
    "plt.plot(mod.history['val_accuracy'])\n",
    "plt.title('Accuracy')\n",
    "plt.xlabel('Epoch')\n",
    "plt.ylabel('Accuracy')\n",
    "plt.legend(['Training Accuracy','Validation Accuracy'])\n",
    "\n",
    "plt.subplot(1,2,2)\n",
    "plt.plot(mod.history['loss'])\n",
    "plt.plot(mod.history['val_loss'])\n",
    "plt.title('Loss')\n",
    "plt.xlabel('Epoch')\n",
    "plt.ylabel('Loss')\n",
    "plt.legend(['Training Loss','Validation Loss'])\n",
    "\n",
    "plt.show()"
   ]
  },
  {
   "cell_type": "markdown",
   "metadata": {},
   "source": [
    "#### Predict"
   ]
  },
  {
   "cell_type": "code",
   "execution_count": 22,
   "metadata": {},
   "outputs": [],
   "source": [
    "pred=model.predict(testx)"
   ]
  },
  {
   "cell_type": "markdown",
   "metadata": {},
   "source": [
    "#### Confusion Matrix"
   ]
  },
  {
   "cell_type": "code",
   "execution_count": 23,
   "metadata": {},
   "outputs": [
    {
     "data": {
      "text/plain": [
       "<tf.Tensor: shape=(2, 2), dtype=int32, numpy=\n",
       "array([[ 173,   61],\n",
       "       [ 423, 3452]])>"
      ]
     },
     "execution_count": 23,
     "metadata": {},
     "output_type": "execute_result"
    }
   ],
   "source": [
    "for i in range(len(pred)):\n",
    "    if pred[i]>0.5:\n",
    "        pred[i]=1\n",
    "    else:\n",
    "        pred[i]=0\n",
    "\n",
    "tf.math.confusion_matrix(testy,pred)\n"
   ]
  },
  {
   "cell_type": "markdown",
   "metadata": {},
   "source": [
    "TP = 3452 <br>\n",
    "FP = 61 <br>\n",
    "FN = 423 <br>\n",
    "TN = 173 <br><br><b>\n",
    "Precision = 3452 / (3452 + 61) = 0.982<br><br>\n",
    "Recall = 3452 / (3452 + 423) = 0.89<br><br>\n",
    "F1 score = 2 * 0.982 * 0.89 / (0.982 + 0.89) = 93.37 %<b>\n",
    "    "
   ]
  }
 ],
 "metadata": {
  "kernelspec": {
   "display_name": "Python 3",
   "language": "python",
   "name": "python3"
  },
  "language_info": {
   "codemirror_mode": {
    "name": "ipython",
    "version": 3
   },
   "file_extension": ".py",
   "mimetype": "text/x-python",
   "name": "python",
   "nbconvert_exporter": "python",
   "pygments_lexer": "ipython3",
   "version": "3.7.6"
  }
 },
 "nbformat": 4,
 "nbformat_minor": 4
}
