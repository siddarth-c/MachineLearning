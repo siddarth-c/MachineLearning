{
 "cells": [
  {
   "cell_type": "code",
   "execution_count": 1,
   "metadata": {},
   "outputs": [],
   "source": [
    "import tensorflow as tf\n",
    "import numpy as np\n",
    "import spacy\n",
    "from spacy.lang.en.stop_words import STOP_WORDS\n",
    "from tensorflow.keras import layers"
   ]
  },
  {
   "cell_type": "code",
   "execution_count": 26,
   "metadata": {},
   "outputs": [],
   "source": [
    "text = open('sample.txt', 'r').read()"
   ]
  },
  {
   "cell_type": "code",
   "execution_count": 27,
   "metadata": {},
   "outputs": [
    {
     "name": "stdout",
     "output_type": "stream",
     "text": [
      "585535 <class 'str'>\n"
     ]
    }
   ],
   "source": [
    "print(len(text),type(text))"
   ]
  },
  {
   "cell_type": "code",
   "execution_count": 28,
   "metadata": {},
   "outputs": [],
   "source": [
    "nlp = spacy.load('en_core_web_sm')\n",
    "doc = nlp(text)"
   ]
  },
  {
   "cell_type": "code",
   "execution_count": 24,
   "metadata": {},
   "outputs": [],
   "source": [
    "word_index = 1\n",
    "word_dict = {}\n",
    "seq_dict = {}\n",
    "word_seq = []\n",
    "trainx = [0]\n",
    "trainy = []\n",
    "for token in doc:\n",
    "    if(token.text not in word_dict):\n",
    "        word_dict[token.text] = word_index\n",
    "        seq_dict[word_index] = token.text\n",
    "        word_index += 1\n",
    "    \n",
    "    word_seq.append(word_dict[token.text])\n",
    "    trainx.append(word_dict[token.text])\n",
    "    trainy.append(word_dict[token.text])\n",
    "    \n",
    "trainx = trainx[:-7]\n",
    "trainy = trainy[:-6]\n"
   ]
  },
  {
   "cell_type": "code",
   "execution_count": 32,
   "metadata": {},
   "outputs": [
    {
     "name": "stdout",
     "output_type": "stream",
     "text": [
      "Epoch 1/40\n",
      "229/229 [==============================] - 3s 12ms/step - loss: 6.8561 - accuracy: 0.0589\n",
      "Epoch 2/40\n",
      "229/229 [==============================] - 2s 10ms/step - loss: 5.8311 - accuracy: 0.0871\n",
      "Epoch 3/40\n",
      "229/229 [==============================] - 2s 11ms/step - loss: 5.5170 - accuracy: 0.1145\n",
      "Epoch 4/40\n",
      "229/229 [==============================] - 3s 12ms/step - loss: 5.2667 - accuracy: 0.1297\n",
      "Epoch 5/40\n",
      "229/229 [==============================] - 3s 12ms/step - loss: 5.0087 - accuracy: 0.1519\n",
      "Epoch 6/40\n",
      "229/229 [==============================] - 3s 12ms/step - loss: 4.7517 - accuracy: 0.1798\n",
      "Epoch 7/40\n",
      "229/229 [==============================] - 3s 12ms/step - loss: 4.5199 - accuracy: 0.2127\n",
      "Epoch 8/40\n",
      "229/229 [==============================] - 3s 13ms/step - loss: 4.3041 - accuracy: 0.2386\n",
      "Epoch 9/40\n",
      "229/229 [==============================] - 3s 15ms/step - loss: 4.1086 - accuracy: 0.2512 0s - loss: 4.0849 - accu\n",
      "Epoch 10/40\n",
      "229/229 [==============================] - 3s 13ms/step - loss: 3.9276 - accuracy: 0.2796\n",
      "Epoch 11/40\n",
      "229/229 [==============================] - 3s 13ms/step - loss: 3.7650 - accuracy: 0.2955- ETA: 1s - loss: 3.7125 - ac - ETA: \n",
      "Epoch 12/40\n",
      "229/229 [==============================] - 3s 11ms/step - loss: 3.6173 - accuracy: 0.3147\n",
      "Epoch 13/40\n",
      "229/229 [==============================] - 3s 12ms/step - loss: 3.4836 - accuracy: 0.3306\n",
      "Epoch 14/40\n",
      "229/229 [==============================] - 3s 11ms/step - loss: 3.3618 - accuracy: 0.3440\n",
      "Epoch 15/40\n",
      "229/229 [==============================] - 3s 12ms/step - loss: 3.2520 - accuracy: 0.3540\n",
      "Epoch 16/40\n",
      "229/229 [==============================] - 3s 11ms/step - loss: 3.1574 - accuracy: 0.3576\n",
      "Epoch 17/40\n",
      "229/229 [==============================] - 3s 12ms/step - loss: 3.0740 - accuracy: 0.3662\n",
      "Epoch 18/40\n",
      "229/229 [==============================] - 3s 11ms/step - loss: 2.9994 - accuracy: 0.3617\n",
      "Epoch 19/40\n",
      "229/229 [==============================] - 3s 12ms/step - loss: 2.9331 - accuracy: 0.3678\n",
      "Epoch 20/40\n",
      "229/229 [==============================] - 3s 12ms/step - loss: 2.8762 - accuracy: 0.3688\n",
      "Epoch 21/40\n",
      "229/229 [==============================] - 3s 12ms/step - loss: 2.8283 - accuracy: 0.3702\n",
      "Epoch 22/40\n",
      "229/229 [==============================] - 3s 12ms/step - loss: 2.7870 - accuracy: 0.3687\n",
      "Epoch 23/40\n",
      "229/229 [==============================] - 3s 12ms/step - loss: 2.7491 - accuracy: 0.3676\n",
      "Epoch 24/40\n",
      "229/229 [==============================] - 3s 12ms/step - loss: 2.7178 - accuracy: 0.3685\n",
      "Epoch 25/40\n",
      "229/229 [==============================] - 2s 10ms/step - loss: 2.6908 - accuracy: 0.3658\n",
      "Epoch 26/40\n",
      "229/229 [==============================] - 2s 10ms/step - loss: 2.6654 - accuracy: 0.3678\n",
      "Epoch 27/40\n",
      "229/229 [==============================] - 2s 10ms/step - loss: 2.6442 - accuracy: 0.3695\n",
      "Epoch 28/40\n",
      "229/229 [==============================] - 2s 10ms/step - loss: 2.6232 - accuracy: 0.3651\n",
      "Epoch 29/40\n",
      "229/229 [==============================] - 2s 10ms/step - loss: 2.6072 - accuracy: 0.3666\n",
      "Epoch 30/40\n",
      "229/229 [==============================] - 2s 10ms/step - loss: 2.5914 - accuracy: 0.3685\n",
      "Epoch 31/40\n",
      "229/229 [==============================] - 2s 10ms/step - loss: 2.5784 - accuracy: 0.3681\n",
      "Epoch 32/40\n",
      "229/229 [==============================] - 2s 10ms/step - loss: 2.5665 - accuracy: 0.3662\n",
      "Epoch 33/40\n",
      "229/229 [==============================] - 2s 10ms/step - loss: 2.5539 - accuracy: 0.3687\n",
      "Epoch 34/40\n",
      "229/229 [==============================] - 2s 10ms/step - loss: 2.5435 - accuracy: 0.3689\n",
      "Epoch 35/40\n",
      "229/229 [==============================] - 2s 10ms/step - loss: 2.5338 - accuracy: 0.3654\n",
      "Epoch 36/40\n",
      "229/229 [==============================] - 2s 10ms/step - loss: 2.5251 - accuracy: 0.3680\n",
      "Epoch 37/40\n",
      "229/229 [==============================] - 2s 10ms/step - loss: 2.5167 - accuracy: 0.3676\n",
      "Epoch 38/40\n",
      "229/229 [==============================] - 2s 10ms/step - loss: 2.5099 - accuracy: 0.3654\n",
      "Epoch 39/40\n",
      "229/229 [==============================] - 2s 10ms/step - loss: 2.5030 - accuracy: 0.3696\n",
      "Epoch 40/40\n",
      "229/229 [==============================] - 2s 11ms/step - loss: 2.4980 - accuracy: 0.3648\n"
     ]
    },
    {
     "data": {
      "text/plain": [
       "<tensorflow.python.keras.callbacks.History at 0x28106eeb888>"
      ]
     },
     "execution_count": 32,
     "metadata": {},
     "output_type": "execute_result"
    }
   ],
   "source": [
    "embedding_dim = 300\n",
    "rnn_units = 50\n",
    "vocab_size = len(word_dict)\n",
    "model=tf.keras.Sequential(\n",
    "[\n",
    "    layers.Embedding(vocab_size, embedding_dim, batch_input_shape=[None, None]),\n",
    "    layers.GRU(rnn_units,recurrent_initializer='glorot_uniform'),    \n",
    "    layers.Dense(vocab_size,activation = 'softmax')\n",
    "    \n",
    "])\n",
    "\n",
    "model.compile(loss='SparseCategoricalCrossentropy',optimizer='adam',metrics = ['accuracy'] )\n",
    "\n",
    "model.fit(trainx,trainy,epochs = 40)\n"
   ]
  },
  {
   "cell_type": "code",
   "execution_count": 8,
   "metadata": {},
   "outputs": [
    {
     "name": "stdout",
     "output_type": "stream",
     "text": [
      "Model: \"sequential_1\"\n",
      "_________________________________________________________________\n",
      "Layer (type)                 Output Shape              Param #   \n",
      "=================================================================\n",
      "embedding_1 (Embedding)      (None, None, 100)         547400    \n",
      "_________________________________________________________________\n",
      "gru_1 (GRU)                  (None, 50)                22800     \n",
      "_________________________________________________________________\n",
      "dense_1 (Dense)              (None, 5474)              279174    \n",
      "=================================================================\n",
      "Total params: 849,374\n",
      "Trainable params: 849,374\n",
      "Non-trainable params: 0\n",
      "_________________________________________________________________\n"
     ]
    }
   ],
   "source": [
    "model.summary()"
   ]
  },
  {
   "cell_type": "code",
   "execution_count": 37,
   "metadata": {},
   "outputs": [
    {
     "name": "stdout",
     "output_type": "stream",
     "text": [
      "[14, 448] 0\n",
      "[14, 448, 2370] 1\n"
     ]
    },
    {
     "ename": "InvalidArgumentError",
     "evalue": " indices[2,0] = 2370 is not in [0, 1921)\n\t [[node sequential_4/embedding_4/embedding_lookup (defined at <ipython-input-33-1cf478c04b78>:4) ]] [Op:__inference_predict_function_47772]\n\nErrors may have originated from an input operation.\nInput Source operations connected to node sequential_4/embedding_4/embedding_lookup:\n sequential_4/embedding_4/embedding_lookup/47371 (defined at E:\\SiddC\\ML_ANN\\Anaconda\\Anaconda\\lib\\contextlib.py:112)\n\nFunction call stack:\npredict_function\n",
     "output_type": "error",
     "traceback": [
      "\u001b[1;31m---------------------------------------------------------------------------\u001b[0m",
      "\u001b[1;31mInvalidArgumentError\u001b[0m                      Traceback (most recent call last)",
      "\u001b[1;32m<ipython-input-37-07ba32b67f70>\u001b[0m in \u001b[0;36m<module>\u001b[1;34m\u001b[0m\n\u001b[0;32m      2\u001b[0m \u001b[1;33m\u001b[0m\u001b[0m\n\u001b[0;32m      3\u001b[0m \u001b[1;32mfor\u001b[0m \u001b[0mi\u001b[0m \u001b[1;32min\u001b[0m \u001b[0mrange\u001b[0m\u001b[1;33m(\u001b[0m\u001b[1;36m10\u001b[0m\u001b[1;33m)\u001b[0m\u001b[1;33m:\u001b[0m\u001b[1;33m\u001b[0m\u001b[1;33m\u001b[0m\u001b[0m\n\u001b[1;32m----> 4\u001b[1;33m     \u001b[0my\u001b[0m \u001b[1;33m=\u001b[0m \u001b[0mmodel\u001b[0m\u001b[1;33m.\u001b[0m\u001b[0mpredict\u001b[0m\u001b[1;33m(\u001b[0m\u001b[0mop\u001b[0m\u001b[1;33m)\u001b[0m\u001b[1;33m\u001b[0m\u001b[1;33m\u001b[0m\u001b[0m\n\u001b[0m\u001b[0;32m      5\u001b[0m     \u001b[0mn\u001b[0m \u001b[1;33m=\u001b[0m \u001b[0mnp\u001b[0m\u001b[1;33m.\u001b[0m\u001b[0margmax\u001b[0m\u001b[1;33m(\u001b[0m\u001b[0my\u001b[0m\u001b[1;33m)\u001b[0m\u001b[1;33m\u001b[0m\u001b[1;33m\u001b[0m\u001b[0m\n\u001b[0;32m      6\u001b[0m     \u001b[0mop\u001b[0m\u001b[1;33m.\u001b[0m\u001b[0mappend\u001b[0m\u001b[1;33m(\u001b[0m\u001b[0mn\u001b[0m\u001b[1;33m)\u001b[0m\u001b[1;33m\u001b[0m\u001b[1;33m\u001b[0m\u001b[0m\n",
      "\u001b[1;32m~\\AppData\\Roaming\\Python\\Python37\\site-packages\\tensorflow\\python\\keras\\engine\\training.py\u001b[0m in \u001b[0;36m_method_wrapper\u001b[1;34m(self, *args, **kwargs)\u001b[0m\n\u001b[0;32m     86\u001b[0m       raise ValueError('{} is not supported in multi-worker mode.'.format(\n\u001b[0;32m     87\u001b[0m           method.__name__))\n\u001b[1;32m---> 88\u001b[1;33m     \u001b[1;32mreturn\u001b[0m \u001b[0mmethod\u001b[0m\u001b[1;33m(\u001b[0m\u001b[0mself\u001b[0m\u001b[1;33m,\u001b[0m \u001b[1;33m*\u001b[0m\u001b[0margs\u001b[0m\u001b[1;33m,\u001b[0m \u001b[1;33m**\u001b[0m\u001b[0mkwargs\u001b[0m\u001b[1;33m)\u001b[0m\u001b[1;33m\u001b[0m\u001b[1;33m\u001b[0m\u001b[0m\n\u001b[0m\u001b[0;32m     89\u001b[0m \u001b[1;33m\u001b[0m\u001b[0m\n\u001b[0;32m     90\u001b[0m   return tf_decorator.make_decorator(\n",
      "\u001b[1;32m~\\AppData\\Roaming\\Python\\Python37\\site-packages\\tensorflow\\python\\keras\\engine\\training.py\u001b[0m in \u001b[0;36mpredict\u001b[1;34m(self, x, batch_size, verbose, steps, callbacks, max_queue_size, workers, use_multiprocessing)\u001b[0m\n\u001b[0;32m   1266\u001b[0m           \u001b[1;32mfor\u001b[0m \u001b[0mstep\u001b[0m \u001b[1;32min\u001b[0m \u001b[0mdata_handler\u001b[0m\u001b[1;33m.\u001b[0m\u001b[0msteps\u001b[0m\u001b[1;33m(\u001b[0m\u001b[1;33m)\u001b[0m\u001b[1;33m:\u001b[0m\u001b[1;33m\u001b[0m\u001b[1;33m\u001b[0m\u001b[0m\n\u001b[0;32m   1267\u001b[0m             \u001b[0mcallbacks\u001b[0m\u001b[1;33m.\u001b[0m\u001b[0mon_predict_batch_begin\u001b[0m\u001b[1;33m(\u001b[0m\u001b[0mstep\u001b[0m\u001b[1;33m)\u001b[0m\u001b[1;33m\u001b[0m\u001b[1;33m\u001b[0m\u001b[0m\n\u001b[1;32m-> 1268\u001b[1;33m             \u001b[0mtmp_batch_outputs\u001b[0m \u001b[1;33m=\u001b[0m \u001b[0mpredict_function\u001b[0m\u001b[1;33m(\u001b[0m\u001b[0miterator\u001b[0m\u001b[1;33m)\u001b[0m\u001b[1;33m\u001b[0m\u001b[1;33m\u001b[0m\u001b[0m\n\u001b[0m\u001b[0;32m   1269\u001b[0m             \u001b[1;31m# Catch OutOfRangeError for Datasets of unknown size.\u001b[0m\u001b[1;33m\u001b[0m\u001b[1;33m\u001b[0m\u001b[1;33m\u001b[0m\u001b[0m\n\u001b[0;32m   1270\u001b[0m             \u001b[1;31m# This blocks until the batch has finished executing.\u001b[0m\u001b[1;33m\u001b[0m\u001b[1;33m\u001b[0m\u001b[1;33m\u001b[0m\u001b[0m\n",
      "\u001b[1;32m~\\AppData\\Roaming\\Python\\Python37\\site-packages\\tensorflow\\python\\eager\\def_function.py\u001b[0m in \u001b[0;36m__call__\u001b[1;34m(self, *args, **kwds)\u001b[0m\n\u001b[0;32m    578\u001b[0m         \u001b[0mxla_context\u001b[0m\u001b[1;33m.\u001b[0m\u001b[0mExit\u001b[0m\u001b[1;33m(\u001b[0m\u001b[1;33m)\u001b[0m\u001b[1;33m\u001b[0m\u001b[1;33m\u001b[0m\u001b[0m\n\u001b[0;32m    579\u001b[0m     \u001b[1;32melse\u001b[0m\u001b[1;33m:\u001b[0m\u001b[1;33m\u001b[0m\u001b[1;33m\u001b[0m\u001b[0m\n\u001b[1;32m--> 580\u001b[1;33m       \u001b[0mresult\u001b[0m \u001b[1;33m=\u001b[0m \u001b[0mself\u001b[0m\u001b[1;33m.\u001b[0m\u001b[0m_call\u001b[0m\u001b[1;33m(\u001b[0m\u001b[1;33m*\u001b[0m\u001b[0margs\u001b[0m\u001b[1;33m,\u001b[0m \u001b[1;33m**\u001b[0m\u001b[0mkwds\u001b[0m\u001b[1;33m)\u001b[0m\u001b[1;33m\u001b[0m\u001b[1;33m\u001b[0m\u001b[0m\n\u001b[0m\u001b[0;32m    581\u001b[0m \u001b[1;33m\u001b[0m\u001b[0m\n\u001b[0;32m    582\u001b[0m     \u001b[1;32mif\u001b[0m \u001b[0mtracing_count\u001b[0m \u001b[1;33m==\u001b[0m \u001b[0mself\u001b[0m\u001b[1;33m.\u001b[0m\u001b[0m_get_tracing_count\u001b[0m\u001b[1;33m(\u001b[0m\u001b[1;33m)\u001b[0m\u001b[1;33m:\u001b[0m\u001b[1;33m\u001b[0m\u001b[1;33m\u001b[0m\u001b[0m\n",
      "\u001b[1;32m~\\AppData\\Roaming\\Python\\Python37\\site-packages\\tensorflow\\python\\eager\\def_function.py\u001b[0m in \u001b[0;36m_call\u001b[1;34m(self, *args, **kwds)\u001b[0m\n\u001b[0;32m    616\u001b[0m       \u001b[1;31m# In this case we have not created variables on the first call. So we can\u001b[0m\u001b[1;33m\u001b[0m\u001b[1;33m\u001b[0m\u001b[1;33m\u001b[0m\u001b[0m\n\u001b[0;32m    617\u001b[0m       \u001b[1;31m# run the first trace but we should fail if variables are created.\u001b[0m\u001b[1;33m\u001b[0m\u001b[1;33m\u001b[0m\u001b[1;33m\u001b[0m\u001b[0m\n\u001b[1;32m--> 618\u001b[1;33m       \u001b[0mresults\u001b[0m \u001b[1;33m=\u001b[0m \u001b[0mself\u001b[0m\u001b[1;33m.\u001b[0m\u001b[0m_stateful_fn\u001b[0m\u001b[1;33m(\u001b[0m\u001b[1;33m*\u001b[0m\u001b[0margs\u001b[0m\u001b[1;33m,\u001b[0m \u001b[1;33m**\u001b[0m\u001b[0mkwds\u001b[0m\u001b[1;33m)\u001b[0m\u001b[1;33m\u001b[0m\u001b[1;33m\u001b[0m\u001b[0m\n\u001b[0m\u001b[0;32m    619\u001b[0m       \u001b[1;32mif\u001b[0m \u001b[0mself\u001b[0m\u001b[1;33m.\u001b[0m\u001b[0m_created_variables\u001b[0m\u001b[1;33m:\u001b[0m\u001b[1;33m\u001b[0m\u001b[1;33m\u001b[0m\u001b[0m\n\u001b[0;32m    620\u001b[0m         raise ValueError(\"Creating variables on a non-first call to a function\"\n",
      "\u001b[1;32m~\\AppData\\Roaming\\Python\\Python37\\site-packages\\tensorflow\\python\\eager\\function.py\u001b[0m in \u001b[0;36m__call__\u001b[1;34m(self, *args, **kwargs)\u001b[0m\n\u001b[0;32m   2418\u001b[0m     \u001b[1;32mwith\u001b[0m \u001b[0mself\u001b[0m\u001b[1;33m.\u001b[0m\u001b[0m_lock\u001b[0m\u001b[1;33m:\u001b[0m\u001b[1;33m\u001b[0m\u001b[1;33m\u001b[0m\u001b[0m\n\u001b[0;32m   2419\u001b[0m       \u001b[0mgraph_function\u001b[0m\u001b[1;33m,\u001b[0m \u001b[0margs\u001b[0m\u001b[1;33m,\u001b[0m \u001b[0mkwargs\u001b[0m \u001b[1;33m=\u001b[0m \u001b[0mself\u001b[0m\u001b[1;33m.\u001b[0m\u001b[0m_maybe_define_function\u001b[0m\u001b[1;33m(\u001b[0m\u001b[0margs\u001b[0m\u001b[1;33m,\u001b[0m \u001b[0mkwargs\u001b[0m\u001b[1;33m)\u001b[0m\u001b[1;33m\u001b[0m\u001b[1;33m\u001b[0m\u001b[0m\n\u001b[1;32m-> 2420\u001b[1;33m     \u001b[1;32mreturn\u001b[0m \u001b[0mgraph_function\u001b[0m\u001b[1;33m.\u001b[0m\u001b[0m_filtered_call\u001b[0m\u001b[1;33m(\u001b[0m\u001b[0margs\u001b[0m\u001b[1;33m,\u001b[0m \u001b[0mkwargs\u001b[0m\u001b[1;33m)\u001b[0m  \u001b[1;31m# pylint: disable=protected-access\u001b[0m\u001b[1;33m\u001b[0m\u001b[1;33m\u001b[0m\u001b[0m\n\u001b[0m\u001b[0;32m   2421\u001b[0m \u001b[1;33m\u001b[0m\u001b[0m\n\u001b[0;32m   2422\u001b[0m   \u001b[1;33m@\u001b[0m\u001b[0mproperty\u001b[0m\u001b[1;33m\u001b[0m\u001b[1;33m\u001b[0m\u001b[0m\n",
      "\u001b[1;32m~\\AppData\\Roaming\\Python\\Python37\\site-packages\\tensorflow\\python\\eager\\function.py\u001b[0m in \u001b[0;36m_filtered_call\u001b[1;34m(self, args, kwargs)\u001b[0m\n\u001b[0;32m   1663\u001b[0m          if isinstance(t, (ops.Tensor,\n\u001b[0;32m   1664\u001b[0m                            resource_variable_ops.BaseResourceVariable))),\n\u001b[1;32m-> 1665\u001b[1;33m         self.captured_inputs)\n\u001b[0m\u001b[0;32m   1666\u001b[0m \u001b[1;33m\u001b[0m\u001b[0m\n\u001b[0;32m   1667\u001b[0m   \u001b[1;32mdef\u001b[0m \u001b[0m_call_flat\u001b[0m\u001b[1;33m(\u001b[0m\u001b[0mself\u001b[0m\u001b[1;33m,\u001b[0m \u001b[0margs\u001b[0m\u001b[1;33m,\u001b[0m \u001b[0mcaptured_inputs\u001b[0m\u001b[1;33m,\u001b[0m \u001b[0mcancellation_manager\u001b[0m\u001b[1;33m=\u001b[0m\u001b[1;32mNone\u001b[0m\u001b[1;33m)\u001b[0m\u001b[1;33m:\u001b[0m\u001b[1;33m\u001b[0m\u001b[1;33m\u001b[0m\u001b[0m\n",
      "\u001b[1;32m~\\AppData\\Roaming\\Python\\Python37\\site-packages\\tensorflow\\python\\eager\\function.py\u001b[0m in \u001b[0;36m_call_flat\u001b[1;34m(self, args, captured_inputs, cancellation_manager)\u001b[0m\n\u001b[0;32m   1744\u001b[0m       \u001b[1;31m# No tape is watching; skip to running the function.\u001b[0m\u001b[1;33m\u001b[0m\u001b[1;33m\u001b[0m\u001b[1;33m\u001b[0m\u001b[0m\n\u001b[0;32m   1745\u001b[0m       return self._build_call_outputs(self._inference_function.call(\n\u001b[1;32m-> 1746\u001b[1;33m           ctx, args, cancellation_manager=cancellation_manager))\n\u001b[0m\u001b[0;32m   1747\u001b[0m     forward_backward = self._select_forward_and_backward_functions(\n\u001b[0;32m   1748\u001b[0m         \u001b[0margs\u001b[0m\u001b[1;33m,\u001b[0m\u001b[1;33m\u001b[0m\u001b[1;33m\u001b[0m\u001b[0m\n",
      "\u001b[1;32m~\\AppData\\Roaming\\Python\\Python37\\site-packages\\tensorflow\\python\\eager\\function.py\u001b[0m in \u001b[0;36mcall\u001b[1;34m(self, ctx, args, cancellation_manager)\u001b[0m\n\u001b[0;32m    596\u001b[0m               \u001b[0minputs\u001b[0m\u001b[1;33m=\u001b[0m\u001b[0margs\u001b[0m\u001b[1;33m,\u001b[0m\u001b[1;33m\u001b[0m\u001b[1;33m\u001b[0m\u001b[0m\n\u001b[0;32m    597\u001b[0m               \u001b[0mattrs\u001b[0m\u001b[1;33m=\u001b[0m\u001b[0mattrs\u001b[0m\u001b[1;33m,\u001b[0m\u001b[1;33m\u001b[0m\u001b[1;33m\u001b[0m\u001b[0m\n\u001b[1;32m--> 598\u001b[1;33m               ctx=ctx)\n\u001b[0m\u001b[0;32m    599\u001b[0m         \u001b[1;32melse\u001b[0m\u001b[1;33m:\u001b[0m\u001b[1;33m\u001b[0m\u001b[1;33m\u001b[0m\u001b[0m\n\u001b[0;32m    600\u001b[0m           outputs = execute.execute_with_cancellation(\n",
      "\u001b[1;32m~\\AppData\\Roaming\\Python\\Python37\\site-packages\\tensorflow\\python\\eager\\execute.py\u001b[0m in \u001b[0;36mquick_execute\u001b[1;34m(op_name, num_outputs, inputs, attrs, ctx, name)\u001b[0m\n\u001b[0;32m     58\u001b[0m     \u001b[0mctx\u001b[0m\u001b[1;33m.\u001b[0m\u001b[0mensure_initialized\u001b[0m\u001b[1;33m(\u001b[0m\u001b[1;33m)\u001b[0m\u001b[1;33m\u001b[0m\u001b[1;33m\u001b[0m\u001b[0m\n\u001b[0;32m     59\u001b[0m     tensors = pywrap_tfe.TFE_Py_Execute(ctx._handle, device_name, op_name,\n\u001b[1;32m---> 60\u001b[1;33m                                         inputs, attrs, num_outputs)\n\u001b[0m\u001b[0;32m     61\u001b[0m   \u001b[1;32mexcept\u001b[0m \u001b[0mcore\u001b[0m\u001b[1;33m.\u001b[0m\u001b[0m_NotOkStatusException\u001b[0m \u001b[1;32mas\u001b[0m \u001b[0me\u001b[0m\u001b[1;33m:\u001b[0m\u001b[1;33m\u001b[0m\u001b[1;33m\u001b[0m\u001b[0m\n\u001b[0;32m     62\u001b[0m     \u001b[1;32mif\u001b[0m \u001b[0mname\u001b[0m \u001b[1;32mis\u001b[0m \u001b[1;32mnot\u001b[0m \u001b[1;32mNone\u001b[0m\u001b[1;33m:\u001b[0m\u001b[1;33m\u001b[0m\u001b[1;33m\u001b[0m\u001b[0m\n",
      "\u001b[1;31mInvalidArgumentError\u001b[0m:  indices[2,0] = 2370 is not in [0, 1921)\n\t [[node sequential_4/embedding_4/embedding_lookup (defined at <ipython-input-33-1cf478c04b78>:4) ]] [Op:__inference_predict_function_47772]\n\nErrors may have originated from an input operation.\nInput Source operations connected to node sequential_4/embedding_4/embedding_lookup:\n sequential_4/embedding_4/embedding_lookup/47371 (defined at E:\\SiddC\\ML_ANN\\Anaconda\\Anaconda\\lib\\contextlib.py:112)\n\nFunction call stack:\npredict_function\n"
     ]
    }
   ],
   "source": [
    "op = [14]\n",
    "\n",
    "for i in range(10):\n",
    "    y = model.predict(op)\n",
    "    n = np.argmax(y)\n",
    "    op.append(n)\n",
    "    print(op,i)"
   ]
  },
  {
   "cell_type": "code",
   "execution_count": 25,
   "metadata": {},
   "outputs": [
    {
     "data": {
      "text/plain": [
       "'you'"
      ]
     },
     "execution_count": 25,
     "metadata": {},
     "output_type": "execute_result"
    }
   ],
   "source": [
    "seq_dict[12]"
   ]
  }
 ],
 "metadata": {
  "kernelspec": {
   "display_name": "Python 3",
   "language": "python",
   "name": "python3"
  },
  "language_info": {
   "codemirror_mode": {
    "name": "ipython",
    "version": 3
   },
   "file_extension": ".py",
   "mimetype": "text/x-python",
   "name": "python",
   "nbconvert_exporter": "python",
   "pygments_lexer": "ipython3",
   "version": "3.7.6"
  }
 },
 "nbformat": 4,
 "nbformat_minor": 4
}
