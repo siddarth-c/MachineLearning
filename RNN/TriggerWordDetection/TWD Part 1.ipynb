{
 "cells": [
  {
   "cell_type": "markdown",
   "metadata": {},
   "source": [
    "# Trigger Word Detection (TWD) Part 1"
   ]
  },
  {
   "cell_type": "code",
   "execution_count": 1,
   "metadata": {},
   "outputs": [
    {
     "name": "stderr",
     "output_type": "stream",
     "text": [
      "E:\\SiddC\\ML_ANN\\Anaconda\\Anaconda\\lib\\site-packages\\pydub\\utils.py:170: RuntimeWarning: Couldn't find ffmpeg or avconv - defaulting to ffmpeg, but may not work\n",
      "  warn(\"Couldn't find ffmpeg or avconv - defaulting to ffmpeg, but may not work\", RuntimeWarning)\n",
      "E:\\SiddC\\ML_ANN\\Anaconda\\Anaconda\\lib\\site-packages\\pydub\\utils.py:184: RuntimeWarning: Couldn't find ffplay or avplay - defaulting to ffplay, but may not work\n",
      "  warn(\"Couldn't find ffplay or avplay - defaulting to ffplay, but may not work\", RuntimeWarning)\n"
     ]
    }
   ],
   "source": [
    "from pydub import AudioSegment as AS\n",
    "from pydub.playback import play\n",
    "\n",
    "import numpy as np\n",
    "import random\n",
    "\n",
    "import glob"
   ]
  },
  {
   "cell_type": "code",
   "execution_count": 2,
   "metadata": {},
   "outputs": [],
   "source": [
    "file_dict = {}\n",
    "i = 0\n",
    "\n",
    "for filename in glob.glob('audio\\*'):\n",
    "    file_dict[i] = filename\n",
    "    i = i + 1"
   ]
  },
  {
   "cell_type": "code",
   "execution_count": 3,
   "metadata": {},
   "outputs": [],
   "source": [
    "flag = file_dict[12]\n",
    "file_dict[12] = file_dict[29]\n",
    "file_dict[29] = flag"
   ]
  },
  {
   "cell_type": "code",
   "execution_count": 4,
   "metadata": {},
   "outputs": [],
   "source": [
    "def merge(bg, ls1, ls2):\n",
    "    \n",
    "    ls = ls1 + ls2\n",
    "    max_gap = int((bg_time/( 2 * pos_neg_count)) * 10)\n",
    "    ty = np.zeros((len(bg) * 16,),dtype = int)\n",
    "    \n",
    "    numbers = random.sample(range(0, 2 * pos_neg_count) , 2 * pos_neg_count)\n",
    "    loc1 = len(bg) * random.randint(0, max_gap) / 100\n",
    "\n",
    "    for i in range(len(numbers)):\n",
    "        \n",
    "        bg = bg.overlay(ls[numbers[i]], position = loc1)\n",
    "        \n",
    "        if numbers[i] < pos_neg_count:\n",
    "            ty[int(loc1 + len(ls[numbers[i]])) * 16 : int(loc1 + len(ls[numbers[i]]) + 100) * 16] = 1 \n",
    "            \n",
    "        loc1 = (len(bg) * random.randint(10, max_gap) / 100) + loc1\n",
    "        \n",
    "        bg_array = bg.get_array_of_samples()\n",
    "        \n",
    "    return bg_array, ty, bg"
   ]
  },
  {
   "cell_type": "code",
   "execution_count": 5,
   "metadata": {},
   "outputs": [],
   "source": [
    "tx_list = []\n",
    "ty_list = []\n",
    "\n",
    "pos_neg_count = 3\n",
    "bg_time = 10 \n",
    "db_fact = 15\n",
    "\n",
    "for samp in range(100):\n",
    "    pos = []\n",
    "    neg = []\n",
    "    \n",
    "    rand = random.randint(7, db_fact)\n",
    "    bg = (AS.from_wav(random.choice(glob.glob('audio\\_background_noise_\\*.wav')))\n",
    "          [rand * 1000 : (rand + bg_time) * 1000]) - rand\n",
    "\n",
    "    for i in range(pos_neg_count):\n",
    "        filename = random.choice(glob.glob('audio\\marvin\\*.wav'))\n",
    "        pos.append(AS.from_wav(filename))\n",
    "            \n",
    "    for j in range(pos_neg_count):\n",
    "        choice = random.randint(0, 28)\n",
    "        filename = random.choice(glob.glob(file_dict[choice] + '\\*.wav'))\n",
    "        neg.append(AS.from_wav(filename)) \n",
    "        \n",
    "    tx, ty, wav_file = merge(bg, pos, neg)\n",
    "    \n",
    "    tx_list.append(tx)\n",
    "    ty_list.append(ty)\n",
    "    wav_file.export('generated\\inp' + str(samp) + '.wav', format=\"wav\")\n"
   ]
  },
  {
   "cell_type": "code",
   "execution_count": 6,
   "metadata": {},
   "outputs": [
    {
     "name": "stdout",
     "output_type": "stream",
     "text": [
      "(100, 160000) (100, 160000)\n"
     ]
    }
   ],
   "source": [
    "trainy = np.stack(ty_list)\n",
    "trainx = np.stack(tx_list)\n",
    "\n",
    "np.save('generated\\ trainx.npy', trainx)\n",
    "np.save('generated\\ trainy.npy', trainy)\n",
    "\n",
    "print(trainx.shape,trainy.shape)"
   ]
  }
 ],
 "metadata": {
  "kernelspec": {
   "display_name": "Python 3",
   "language": "python",
   "name": "python3"
  },
  "language_info": {
   "codemirror_mode": {
    "name": "ipython",
    "version": 3
   },
   "file_extension": ".py",
   "mimetype": "text/x-python",
   "name": "python",
   "nbconvert_exporter": "python",
   "pygments_lexer": "ipython3",
   "version": "3.7.6"
  }
 },
 "nbformat": 4,
 "nbformat_minor": 4
}
