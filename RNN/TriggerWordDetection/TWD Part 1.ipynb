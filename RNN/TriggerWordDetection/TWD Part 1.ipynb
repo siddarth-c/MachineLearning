{
 "cells": [
  {
   "cell_type": "markdown",
   "metadata": {},
   "source": [
    "# Trigger Word Detection (TWD) Part 1"
   ]
  },
  {
   "cell_type": "code",
   "execution_count": 1,
   "metadata": {},
   "outputs": [
    {
     "name": "stderr",
     "output_type": "stream",
     "text": [
      "E:\\SiddC\\ML_ANN\\Anaconda\\Anaconda\\lib\\site-packages\\pydub\\utils.py:170: RuntimeWarning: Couldn't find ffmpeg or avconv - defaulting to ffmpeg, but may not work\n",
      "  warn(\"Couldn't find ffmpeg or avconv - defaulting to ffmpeg, but may not work\", RuntimeWarning)\n",
      "E:\\SiddC\\ML_ANN\\Anaconda\\Anaconda\\lib\\site-packages\\pydub\\utils.py:184: RuntimeWarning: Couldn't find ffplay or avplay - defaulting to ffplay, but may not work\n",
      "  warn(\"Couldn't find ffplay or avplay - defaulting to ffplay, but may not work\", RuntimeWarning)\n"
     ]
    }
   ],
   "source": [
    "# Pydub for audio processing\n",
    "from pydub import AudioSegment as AS\n",
    "from pydub.playback import play\n",
    "\n",
    "import numpy as np\n",
    "import random\n",
    "\n",
    "import glob"
   ]
  },
  {
   "cell_type": "code",
   "execution_count": 2,
   "metadata": {},
   "outputs": [],
   "source": [
    "file_dict = {}\n",
    "i = 0\n",
    "\n",
    "# DIRECTORY : audio --> mutiple folders --> multiple .wav files\n",
    "\n",
    "for filename in glob.glob('audio\\*'):\n",
    "    file_dict[i] = filename\n",
    "    i = i + 1"
   ]
  },
  {
   "cell_type": "code",
   "execution_count": 3,
   "metadata": {},
   "outputs": [
    {
     "data": {
      "text/plain": [
       "{0: 'audio\\\\bed',\n",
       " 1: 'audio\\\\bird',\n",
       " 2: 'audio\\\\cat',\n",
       " 3: 'audio\\\\dog',\n",
       " 4: 'audio\\\\down',\n",
       " 5: 'audio\\\\eight',\n",
       " 6: 'audio\\\\five',\n",
       " 7: 'audio\\\\four',\n",
       " 8: 'audio\\\\go',\n",
       " 9: 'audio\\\\happy',\n",
       " 10: 'audio\\\\house',\n",
       " 11: 'audio\\\\left',\n",
       " 12: 'audio\\\\marvin',\n",
       " 13: 'audio\\\\nine',\n",
       " 14: 'audio\\\\no',\n",
       " 15: 'audio\\\\off',\n",
       " 16: 'audio\\\\on',\n",
       " 17: 'audio\\\\one',\n",
       " 18: 'audio\\\\right',\n",
       " 19: 'audio\\\\seven',\n",
       " 20: 'audio\\\\sheila',\n",
       " 21: 'audio\\\\six',\n",
       " 22: 'audio\\\\stop',\n",
       " 23: 'audio\\\\three',\n",
       " 24: 'audio\\\\tree',\n",
       " 25: 'audio\\\\two',\n",
       " 26: 'audio\\\\up',\n",
       " 27: 'audio\\\\wow',\n",
       " 28: 'audio\\\\yes',\n",
       " 29: 'audio\\\\zero',\n",
       " 30: 'audio\\\\_background_noise_'}"
      ]
     },
     "execution_count": 3,
     "metadata": {},
     "output_type": "execute_result"
    }
   ],
   "source": [
    "file_dict"
   ]
  },
  {
   "cell_type": "markdown",
   "metadata": {},
   "source": [
    "These are all the kinds of sounds. Inside each folder there are multiple wav files. I took the word 'marvin' to be the trigger word. For convenience I swapped 'marvin' with the last word 'zero'. <br><br>\n",
    "__marvin__   (12)        => Positive word (triggers) <br>\n",
    "__29 words__ (0 - 11, 13 - 29)    => Negative words (does not trigger) <br>\n",
    "____background_noise____ (30) => Background noise to replicate real life situation"
   ]
  },
  {
   "cell_type": "code",
   "execution_count": 4,
   "metadata": {},
   "outputs": [],
   "source": [
    "flag = file_dict[12]\n",
    "file_dict[12] = file_dict[29]\n",
    "file_dict[29] = flag"
   ]
  },
  {
   "cell_type": "markdown",
   "metadata": {},
   "source": [
    "## About Data\n",
    "\n",
    "Each second of audio is sampled at 16,000 Hz. This means that <br>\n",
    "1 second is represented by 16,000 integers (or) <br>\n",
    "1 milli second is represented by 160 integers. <br> <br>\n",
    "\n",
    "1 training input is considered to be a 10 second sample. Hence it will be 16,000 * 10 = 1,60,000 integers long. <br>\n",
    "Similarly the training output will be an sparse array of size 1,60,000. <br>\n",
    "\n",
    "I will use a 10 second background noise on which 6 words will be overlayed. 3 positive words, 3 negative words.<br>\n",
    "Note that in the line 22, 1600 zeroes are replaced with ones. These 1s are inserted after the the occurance of a trigger word."
   ]
  },
  {
   "cell_type": "code",
   "execution_count": 5,
   "metadata": {},
   "outputs": [],
   "source": [
    "def merge(bg, ls1, ls2):\n",
    "    \n",
    "    ls = ls1 + ls2 \n",
    "    \n",
    "    # maximum gap = total background / total number of words\n",
    "    max_gap = int((bg_time/( 2 * pos_neg_count)) * 10)\n",
    "    ty = np.zeros((len(bg) * 16,),dtype = int)\n",
    "    \n",
    "    # This returns all numbers between 0 and 2*pos_neg_count in a random order\n",
    "    numbers = random.sample(range(0, 2 * pos_neg_count) , 2 * pos_neg_count)\n",
    "    \n",
    "    # loc1 -> Location which determines where the audio should be overlayed\n",
    "    loc1 = len(bg) * random.randint(0, max_gap) / 100\n",
    "\n",
    "    for i in range(len(numbers)):\n",
    "        \n",
    "        # Overlay a sound on the background\n",
    "        bg = bg.overlay(ls[numbers[i]], position = loc1)\n",
    "        \n",
    "        # If the ovrlayed sound is the trigger word, change the next 1600 0s into 1s\n",
    "        if numbers[i] < pos_neg_count:\n",
    "            ty[int(loc1 + len(ls[numbers[i]])) * 16 : int(loc1 + len(ls[numbers[i]]) + 100) * 16] = 1 \n",
    "        \n",
    "        # loc1 is updated     \n",
    "        loc1 = (len(bg) * random.randint(10, max_gap) / 100) + loc1\n",
    "        \n",
    "        # pydub block converted into array\n",
    "        bg_array = np.array(bg.get_array_of_samples())\n",
    "        \n",
    "    return bg_array, ty, bg"
   ]
  },
  {
   "cell_type": "code",
   "execution_count": 6,
   "metadata": {},
   "outputs": [],
   "source": [
    "tx_list = []\n",
    "ty_list = []\n",
    "\n",
    "pos_neg_count = 3 # 6 sounds = 3 positive + 3 negative\n",
    "bg_time = 10  # Total background duration\n",
    "\n",
    "for samp in range(100):\n",
    "    pos = []\n",
    "    neg = []\n",
    "    \n",
    "    rand = random.randint(7, 15)\n",
    "    \n",
    "    # Randomly select a background and choose 10 sec \n",
    "    bg = (AS.from_wav(random.choice(glob.glob('audio\\_background_noise_\\*.wav')))[rand * 1000 : (rand + bg_time) * 1000]) - rand\n",
    "    \n",
    "    # Randomly select negative words\n",
    "    for i in range(pos_neg_count):\n",
    "        filename = random.choice(glob.glob('audio\\marvin\\*.wav'))\n",
    "        pos.append(AS.from_wav(filename))\n",
    "        \n",
    "    # Randomly select positive word    \n",
    "    for j in range(pos_neg_count):\n",
    "        choice = random.randint(0, 28)\n",
    "        filename = random.choice(glob.glob(file_dict[choice] + '\\*.wav'))\n",
    "        neg.append(AS.from_wav(filename)) \n",
    "        \n",
    "    tx, ty, wav_file = merge(bg, pos, neg)\n",
    "    \n",
    "    tx_list.append(tx)\n",
    "    ty_list.append(ty)\n",
    "    wav_file.export('generated\\inp' + str(samp) + '.wav', format=\"wav\")\n"
   ]
  },
  {
   "cell_type": "code",
   "execution_count": 7,
   "metadata": {},
   "outputs": [
    {
     "name": "stdout",
     "output_type": "stream",
     "text": [
      "(100, 160000) (100, 160000)\n"
     ]
    }
   ],
   "source": [
    "trainy = np.stack(ty_list)\n",
    "trainx = np.stack(tx_list)\n",
    "\n",
    "np.save('generated\\ trainx.npy', trainx)\n",
    "np.save('generated\\ trainy.npy', trainy)\n",
    "\n",
    "print(trainx.shape,trainy.shape)"
   ]
  }
 ],
 "metadata": {
  "kernelspec": {
   "display_name": "Python 3",
   "language": "python",
   "name": "python3"
  },
  "language_info": {
   "codemirror_mode": {
    "name": "ipython",
    "version": 3
   },
   "file_extension": ".py",
   "mimetype": "text/x-python",
   "name": "python",
   "nbconvert_exporter": "python",
   "pygments_lexer": "ipython3",
   "version": "3.7.6"
  }
 },
 "nbformat": 4,
 "nbformat_minor": 4
}
