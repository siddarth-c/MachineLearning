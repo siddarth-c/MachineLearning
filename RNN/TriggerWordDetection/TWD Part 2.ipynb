{
 "cells": [
  {
   "cell_type": "markdown",
   "metadata": {},
   "source": [
    "# Trigger Word Detection (TWD) Part 2"
   ]
  },
  {
   "cell_type": "code",
   "execution_count": null,
   "metadata": {},
   "outputs": [],
   "source": [
    "import numpy as np\n",
    "\n",
    "import tensorflow as tf\n",
    "from tensorflow import keras \n",
    "from tensorflow.keras import layers\n",
    "from tensorflow.keras.models import Model\n",
    "from tensorflow.keras import metrics\n"
   ]
  },
  {
   "cell_type": "code",
   "execution_count": null,
   "metadata": {},
   "outputs": [],
   "source": [
    "tx = np.load('generated\\ trainx.npy')\n",
    "ty = np.load('generated\\ trainy.npy')"
   ]
  },
  {
   "cell_type": "code",
   "execution_count": null,
   "metadata": {},
   "outputs": [],
   "source": [
    "tx_reshaped = tx.reshape((5000, 1025, 626))\n",
    "print(tx_reshaped.shape,ty.shape)"
   ]
  },
  {
   "cell_type": "code",
   "execution_count": null,
   "metadata": {},
   "outputs": [],
   "source": [
    "inp = keras.Input(shape = (1025, 626))\n",
    "\n",
    "conv_op = layers.Conv1D(filters = 196, kernel_size = 26, strides = 1, activation = layers.LeakyReLU(alpha = 0.1))(inp)\n",
    "drop_op1 = layers.Dropout(0.75)(conv_op)\n",
    "batch_norm1 = layers.BatchNormalization()(drop_op1)\n",
    "\n",
    "GRU_op1 = layers.GRU(128, activation = layers.LeakyReLU(alpha = 0.1), return_sequences = True)(batch_norm1)\n",
    "batch_norm2 = layers.BatchNormalization()(GRU_op1)\n",
    "\n",
    "GRU_op2 = layers.GRU(128, activation = layers.LeakyReLU(alpha = 0.1), return_sequences = True)(batch_norm2)\n",
    "batch_norm3 = layers.BatchNormalization()(GRU_op2)\n",
    "\n",
    "final = layers.TimeDistributed(layers.Dense(1, activation = \"sigmoid\"))(batch_norm3)\n",
    "\n",
    "twd_model = Model(inp,final)\n",
    "\n",
    "twd_model.summary()"
   ]
  },
  {
   "cell_type": "code",
   "execution_count": null,
   "metadata": {},
   "outputs": [],
   "source": [
    "twd_model.compile(optimizer = 'adam', loss = 'binary_crossentropy', metrics = [metrics.Precision(),metrics.Recall()])\n",
    "\n",
    "hist = twd_model.fit(tx_reshaped, ty, batch_size = 500)"
   ]
  }
 ],
 "metadata": {
  "kernelspec": {
   "display_name": "Python 3",
   "language": "python",
   "name": "python3"
  },
  "language_info": {
   "codemirror_mode": {
    "name": "ipython",
    "version": 3
   },
   "file_extension": ".py",
   "mimetype": "text/x-python",
   "name": "python",
   "nbconvert_exporter": "python",
   "pygments_lexer": "ipython3",
   "version": "3.7.6"
  }
 },
 "nbformat": 4,
 "nbformat_minor": 4
}
